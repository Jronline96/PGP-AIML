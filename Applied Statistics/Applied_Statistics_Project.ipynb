{
 "cells":[
  {
   "cell_type":"markdown",
   "source":[
    "# Part A\n"
   ],
   "attachments":{
    
   },
   "metadata":{
    "datalore":{
     "node_id":"m4FJMB73fhMgrhSHJygQFR",
     "type":"MD",
     "hide_input_from_viewers":false,
     "hide_output_from_viewers":false
    }
   }
  },
  {
   "cell_type":"markdown",
   "source":[
    "# 1. Please refer the table below to answer below questions: [2 Marks]"
   ],
   "attachments":{
    
   },
   "metadata":{
    "datalore":{
     "node_id":"9KLI3MezJOHyYvjW3ek7PH",
     "type":"MD",
     "hide_input_from_viewers":false,
     "hide_output_from_viewers":false
    }
   }
  },
  {
   "cell_type":"markdown",
   "source":[
    "|Planned to purchase Product A| Actually placed order for Product A - Yes| Actually placed order for Product A - No |Total|\n",
    "|--|--|--|--|\n",
    "|Yes|400|100|500|\n",
    "|No|200|1300|1500|\n",
    "|Total|600|1400|2000|\n",
    "\n",
    "\n",
    "\n",
    "people planned to purchase."
   ],
   "attachments":{
    
   },
   "metadata":{
    "datalore":{
     "node_id":"rExo1o9RuhVcQMIZX2lXcD",
     "type":"MD",
     "hide_input_from_viewers":false,
     "hide_output_from_viewers":false
    }
   }
  },
  {
   "cell_type":"markdown",
   "source":[
    "1A.  Refer above table and find the joint probability of the people who planned to purchase and actually placed an order"
   ],
   "attachments":{
    
   },
   "metadata":{
    "datalore":{
     "node_id":"gZAvLviZOzXBGSBdxacHMW",
     "type":"MD",
     "hide_input_from_viewers":false,
     "hide_output_from_viewers":false
    }
   }
  },
  {
   "cell_type":"code",
   "source":[
    "# 1A\n",
    "actual = 400\n",
    "total = 2000\n",
    "jp = round(actual\/total,4)\n",
    "print('joint probability is %1.4f' %jp)"
   ],
   "execution_count":302,
   "outputs":[
    {
     "name":"stdout",
     "text":[
      "joint probability is 0.2000\n"
     ],
     "output_type":"stream"
    }
   ],
   "metadata":{
    "datalore":{
     "node_id":"HOcdNKp0gDRYajGv3qlApq",
     "type":"CODE",
     "hide_input_from_viewers":false,
     "hide_output_from_viewers":false
    }
   }
  },
  {
   "cell_type":"markdown",
   "source":[
    "1B. Refer to the above table and find the joint probability of the people who planned to purchase and actually placed an order, given that"
   ],
   "attachments":{
    
   },
   "metadata":{
    "datalore":{
     "node_id":"IeG0m4ZIAKyyB7mx3Tex2U",
     "type":"MD",
     "hide_input_from_viewers":false,
     "hide_output_from_viewers":false
    }
   }
  },
  {
   "cell_type":"code",
   "source":[
    "pp = 500\n",
    "Planed_purchase = (actual\/total)\/ (pp\/total)\n",
    "print(' Answer is %1.4f' % Planed_purchase)"
   ],
   "execution_count":303,
   "outputs":[
    {
     "name":"stdout",
     "text":[
      " Answer is 0.8000\n"
     ],
     "output_type":"stream"
    }
   ],
   "metadata":{
    "datalore":{
     "node_id":"wvKzhI0JEiq5FRJNh4MCZG",
     "type":"CODE",
     "hide_input_from_viewers":false,
     "hide_output_from_viewers":false
    }
   }
  },
  {
   "cell_type":"markdown",
   "source":[
    "# 2. An electrical manufacturing company conducts quality checks at specified periods on the products it manufactures. Historically, the failure rate for the manufactured item is 5%. Suppose a random sample of 10 manufactured items is selected. Answer the following questions. [4 Marks]"
   ],
   "attachments":{
    
   },
   "metadata":{
    "datalore":{
     "node_id":"VCy94GYjQDgjDc2l4gNap0",
     "type":"MD",
     "hide_input_from_viewers":false,
     "hide_output_from_viewers":false
    }
   }
  },
  {
   "cell_type":"code",
   "source":[
    "import numpy             as np\n",
    "import pandas            as pd\n",
    "import scipy.stats       as stats\n",
    "import matplotlib.pyplot as plt\n",
    "import warnings\n",
    "warnings.filterwarnings(\"ignore\")\n",
    "failure_rate = 0.05\n",
    "sample_size = 10\n",
    "temp = np.arange(0,11)\n",
    "\n",
    "ans = stats.binom.pmf(temp,sample_size,failure_rate)\n",
    "\n",
    "print(ans)\n",
    "\n"
   ],
   "execution_count":304,
   "outputs":[
    {
     "name":"stdout",
     "text":[
      "[5.98736939e-01 3.15124705e-01 7.46347985e-02 1.04750594e-02\n",
      " 9.64808106e-04 6.09352488e-05 2.67259863e-06 8.03789062e-08\n",
      " 1.58642578e-09 1.85546875e-11 9.76562500e-14]\n"
     ],
     "output_type":"stream"
    }
   ],
   "metadata":{
    "datalore":{
     "node_id":"96fjVQHYVxhcB5BcTKYD8Z",
     "type":"CODE",
     "hide_input_from_viewers":false,
     "hide_output_from_viewers":false
    }
   }
  },
  {
   "cell_type":"markdown",
   "source":[
    "2.A. Probability that none of the items are defective? [1 Mark]\n"
   ],
   "attachments":{
    
   },
   "metadata":{
    "datalore":{
     "node_id":"jHwTu76dTusi5gO7jkjubb",
     "type":"MD",
     "hide_input_from_viewers":false,
     "hide_output_from_viewers":false
    }
   }
  },
  {
   "cell_type":"code",
   "source":[
    "print('Probability that none of the items are defective is %1.4f' %ans[0])"
   ],
   "execution_count":305,
   "outputs":[
    {
     "name":"stdout",
     "text":[
      "Probability that none of the items are defective is 0.5987\n"
     ],
     "output_type":"stream"
    }
   ],
   "metadata":{
    "datalore":{
     "node_id":"pRQQpnWF6Qa5gucrHvQIpG",
     "type":"CODE",
     "hide_input_from_viewers":false,
     "hide_output_from_viewers":false
    }
   }
  },
  {
   "cell_type":"markdown",
   "source":[
    "2.B. Probability that exactly one of the items is defective? [1 Mark]"
   ],
   "attachments":{
    
   },
   "metadata":{
    "datalore":{
     "node_id":"nZGPaXZFYbewxLpkDzjU8p",
     "type":"MD",
     "hide_input_from_viewers":false,
     "hide_output_from_viewers":false
    }
   }
  },
  {
   "cell_type":"code",
   "source":[
    "print('Probability that exactly one of the items is %1.4f' %ans[1])"
   ],
   "execution_count":306,
   "outputs":[
    {
     "name":"stdout",
     "text":[
      "Probability that exactly one of the items is 0.3151\n"
     ],
     "output_type":"stream"
    }
   ],
   "metadata":{
    "datalore":{
     "node_id":"unVVCv8FLKMTgGexmyuguf",
     "type":"CODE",
     "hide_input_from_viewers":false,
     "hide_output_from_viewers":false
    }
   }
  },
  {
   "cell_type":"markdown",
   "source":[
    "\n",
    "2.C. Probability that two or fewer of the items are defective? [1 Mark]\n",
    "\n",
    "Calculation of cumulative probability "
   ],
   "attachments":{
    
   },
   "metadata":{
    "datalore":{
     "node_id":"JhymhOzPcIe3x8EeEzd9vb",
     "type":"MD",
     "hide_input_from_viewers":false,
     "hide_output_from_viewers":false
    }
   }
  },
  {
   "cell_type":"code",
   "source":[
    "cumans = stats.binom.cdf(temp,sample_size,failure_rate)\n",
    "print(cumans)"
   ],
   "execution_count":307,
   "outputs":[
    {
     "name":"stdout",
     "text":[
      "[0.59873694 0.91386164 0.98849644 0.9989715  0.99993631 0.99999725\n",
      " 0.99999992 1.         1.         1.         1.        ]\n"
     ],
     "output_type":"stream"
    }
   ],
   "metadata":{
    "datalore":{
     "node_id":"pxzlhoRyboPdGkwWXZJzNq",
     "type":"CODE",
     "hide_input_from_viewers":false,
     "hide_output_from_viewers":false
    }
   }
  },
  {
   "cell_type":"code",
   "source":[
    "print('Probability that two or fewer of the items are defective is %1.4f' %cumans[2])"
   ],
   "execution_count":308,
   "outputs":[
    {
     "name":"stdout",
     "text":[
      "Probability that two or fewer of the items are defective is 0.9885\n"
     ],
     "output_type":"stream"
    }
   ],
   "metadata":{
    "datalore":{
     "node_id":"WnYQNRdI5pYhlztYbmviBJ",
     "type":"CODE",
     "hide_input_from_viewers":false,
     "hide_output_from_viewers":false
    }
   }
  },
  {
   "cell_type":"markdown",
   "source":[
    "\n",
    "2.D. Probability that three or more of the items are defective ? [1 Mark]"
   ],
   "attachments":{
    
   },
   "metadata":{
    "datalore":{
     "node_id":"cA0QFk9moeyOx54gtwT1Su",
     "type":"MD",
     "hide_input_from_viewers":false,
     "hide_output_from_viewers":false
    }
   }
  },
  {
   "cell_type":"code",
   "source":[
    "p_ans = 1 - cumans[2]\n",
    "print('Probability that three or more of the items are defective is %1.4f' % p_ans)"
   ],
   "execution_count":309,
   "outputs":[
    {
     "name":"stdout",
     "text":[
      "Probability that three or more of the items are defective is 0.0115\n"
     ],
     "output_type":"stream"
    }
   ],
   "metadata":{
    "datalore":{
     "node_id":"pufkiFv4RNcGGmOHGK6dg4",
     "type":"CODE",
     "hide_input_from_viewers":false,
     "hide_output_from_viewers":false
    }
   }
  },
  {
   "cell_type":"markdown",
   "source":[
    "# 3. A car salesman sells on an average 3 cars per week. [3 Marks]"
   ],
   "attachments":{
    
   },
   "metadata":{
    "datalore":{
     "node_id":"xMreRTom4EjPPcWoupmVEK",
     "type":"MD",
     "hide_input_from_viewers":false,
     "hide_output_from_viewers":false
    }
   }
  },
  {
   "cell_type":"markdown",
   "source":[
    "3.A. What is Probability that in a given week he will sell some cars? [1 Mark]"
   ],
   "attachments":{
    
   },
   "metadata":{
    "datalore":{
     "node_id":"5vFGRMaZMCH2uTZOiGjVKr",
     "type":"MD",
     "hide_input_from_viewers":false,
     "hide_output_from_viewers":false
    }
   }
  },
  {
   "cell_type":"code",
   "source":[
    "mean = 3\n",
    "net = np.arange(0,16)\n",
    "poisson_law = stats.poisson.cdf(net,mean)\n",
    "poisson_law"
   ],
   "execution_count":310,
   "outputs":[
    {
     "data":{
      "text\/html":[
       
      ]
     },
     "metadata":{
      
     },
     "output_type":"display_data"
    }
   ],
   "metadata":{
    "datalore":{
     "node_id":"CsaVPDIhT8iM4Vb881Q35f",
     "type":"CODE",
     "hide_input_from_viewers":false,
     "hide_output_from_viewers":false
    }
   }
  },
  {
   "cell_type":"code",
   "source":[
    "sell_some = 1 - poisson_law[0]\n",
    "print('Probability that in a given week he will sell some cars is %1.4f' % sell_some)"
   ],
   "execution_count":311,
   "outputs":[
    {
     "name":"stdout",
     "text":[
      "Probability that in a given week he will sell some cars is 0.9502\n"
     ],
     "output_type":"stream"
    }
   ],
   "metadata":{
    "datalore":{
     "node_id":"jSFZ7oMaRyUu9FETUqNyXf",
     "type":"CODE",
     "hide_input_from_viewers":false,
     "hide_output_from_viewers":false
    }
   }
  },
  {
   "cell_type":"markdown",
   "source":[
    "3.B. What is Probability that in a given week he will sell 2 or more but less than 5 cars? [1 Mark]"
   ],
   "attachments":{
    
   },
   "metadata":{
    "datalore":{
     "node_id":"B8heZ5RHZjz0EsyuxP67EG",
     "type":"MD",
     "hide_input_from_viewers":false,
     "hide_output_from_viewers":false
    }
   }
  },
  {
   "cell_type":"code",
   "source":[
    "prob1 = poisson_law[4]\n",
    "prob2 = poisson_law[1]\n",
    "\n",
    "sale = prob1 - prob2\n",
    "\n",
    "print('Probability that in a given week he will sell 2 or more but less than 5 cars is %1.4f' % sale)"
   ],
   "execution_count":312,
   "outputs":[
    {
     "name":"stdout",
     "text":[
      "Probability that in a given week he will sell 2 or more but less than 5 cars is 0.6161\n"
     ],
     "output_type":"stream"
    }
   ],
   "metadata":{
    "datalore":{
     "node_id":"KhF1jEQExrwq2enzVnRX5N",
     "type":"CODE",
     "hide_input_from_viewers":false,
     "hide_output_from_viewers":false
    }
   }
  },
  {
   "cell_type":"markdown",
   "source":[
    "3.C. Plot the poisson distribution function for cumulative probability of cars sold per-week vs number of cars sold per week. [1 Mark]"
   ],
   "attachments":{
    
   },
   "metadata":{
    "datalore":{
     "node_id":"iGULxQutGnTzr89u5cZwbB",
     "type":"MD",
     "hide_input_from_viewers":false,
     "hide_output_from_viewers":false
    }
   }
  },
  {
   "cell_type":"code",
   "source":[
    "plot_poisson = stats.poisson.pmf(net,mean)\n",
    "plt.plot(net,plot_poisson, 'o-')\n",
    "plt.title('Poisson')\n",
    "plt.xlabel('Number of cars sold per week')\n",
    "plt.ylabel('Cumulative probability of cars sold per-week')\n",
    "plt.show()"
   ],
   "execution_count":313,
   "outputs":[
    {
     "data":{
      "image\/png":"[encoded data removed]"
     },
     "metadata":{
      "image\/png":{
       
      }
     },
     "output_type":"display_data"
    }
   ],
   "metadata":{
    "datalore":{
     "node_id":"6T3DMykM33SEBwRgWsqVcR",
     "type":"CODE",
     "hide_input_from_viewers":false,
     "hide_output_from_viewers":false
    }
   }
  },
  {
   "cell_type":"markdown",
   "source":[
    "# **Q 4 A What is the probability that all three orders will be recognised correctly?**"
   ],
   "attachments":{
    
   },
   "metadata":{
    "datalore":{
     "node_id":"N3PXPBEqe9UMTqCy9GunvU",
     "type":"MD",
     "hide_input_from_viewers":false,
     "hide_output_from_viewers":false
    }
   }
  },
  {
   "cell_type":"code",
   "source":[
    "#As per the situation\n",
    "import scipy.stats as st\n",
    "p=0.868\n",
    "q=np.arange(0,4)\n",
    "n=3 \n",
    "array=stats.binom.pmf(q,n,p)\n",
    "print(\"The probability that ALL THREE orders will be recognised correctly is: %1.4f\"%array[3])"
   ],
   "execution_count":314,
   "outputs":[
    {
     "name":"stdout",
     "text":[
      "The probability that ALL THREE orders will be recognised correctly is: 0.6540\n"
     ],
     "output_type":"stream"
    }
   ],
   "metadata":{
    "datalore":{
     "node_id":"RzpQCNA7MKpzRdBQFk5O3U",
     "type":"CODE",
     "hide_input_from_viewers":false,
     "hide_output_from_viewers":false
    }
   }
  },
  {
   "cell_type":"markdown",
   "source":[
    "# ****4**.B. What is the probability that none of the three orders will be recognised correctly? [1 Mark]**"
   ],
   "attachments":{
    
   },
   "metadata":{
    "datalore":{
     "node_id":"BRUEhzUBCbSEF1SzfcFZ1h",
     "type":"MD",
     "hide_input_from_viewers":false,
     "hide_output_from_viewers":false
    }
   }
  },
  {
   "cell_type":"code",
   "source":[
    "result1=st.binom.pmf(0,3,p)\n",
    "print(\"The probability that NONE of the three orders will be recognised correctly is: %1.4f\"%result1)"
   ],
   "execution_count":315,
   "outputs":[
    {
     "name":"stdout",
     "text":[
      "The probability that NONE of the three orders will be recognised correctly is: 0.0023\n"
     ],
     "output_type":"stream"
    }
   ],
   "metadata":{
    "datalore":{
     "node_id":"7pqreaPash1d3Vqkp3z9in",
     "type":"CODE",
     "hide_input_from_viewers":false,
     "hide_output_from_viewers":false
    }
   }
  },
  {
   "cell_type":"markdown",
   "source":[
    "4.C. What is the probability that at least two of the three orders will be recognised correctly? [1 Mark]"
   ],
   "attachments":{
    
   },
   "metadata":{
    "datalore":{
     "node_id":"3T9FoEYZgpCMtkjUeRvmqc",
     "type":"MD",
     "hide_input_from_viewers":false,
     "hide_output_from_viewers":false
    }
   }
  },
  {
   "cell_type":"code",
   "source":[
    "result2=st.binom.sf(1,3,p)\n",
    "print(\"The probability that atleast TWO of the three orders will be recognised correctly is: %1.4f\"%result2)"
   ],
   "execution_count":316,
   "outputs":[
    {
     "name":"stdout",
     "text":[
      "The probability that atleast TWO of the three orders will be recognised correctly is: 0.9523\n"
     ],
     "output_type":"stream"
    }
   ],
   "metadata":{
    "datalore":{
     "node_id":"jExpoCF67m9gqJambmbTUU",
     "type":"CODE",
     "hide_input_from_viewers":false,
     "hide_output_from_viewers":false
    }
   }
  },
  {
   "cell_type":"markdown",
   "source":[
    "5.  Explain 1 real life industry scenario (other than the ones mentioned above) where you can use the concepts learnt in this module of\n",
    "Applied Statistics to get data driven business solution. [3 Marks] "
   ],
   "attachments":{
    
   },
   "metadata":{
    "datalore":{
     "node_id":"m3Lpw0lmDWlg9NhqDrn6di",
     "type":"MD",
     "hide_input_from_viewers":false,
     "hide_output_from_viewers":false
    }
   }
  },
  {
   "cell_type":"markdown",
   "source":[
    "# Answer: The above concepts are based on Basics of Probability,Discrete and Continous Probaility distribution. Hence, these concepts are very much beneficial to predict\/forecast results related to stock markets and sharebazars. This may yield fruitful and productive results in predicting the probability of a stock market crash after a certain period of time.  "
   ],
   "attachments":{
    
   },
   "metadata":{
    "datalore":{
     "node_id":"DIWV1NPG8sIc38F5ox2PY6",
     "type":"MD",
     "hide_input_from_viewers":false,
     "hide_output_from_viewers":false
    }
   }
  },
  {
   "cell_type":"markdown",
   "source":[
    "# Part B"
   ],
   "attachments":{
    
   },
   "metadata":{
    "datalore":{
     "node_id":"eEzfwLCDt9QoMCm7LzjnnF",
     "type":"MD",
     "hide_input_from_viewers":false,
     "hide_output_from_viewers":false
    }
   }
  },
  {
   "cell_type":"markdown",
   "source":[
    "1. Read the data set, clean the data and prepare final dataset to be used for analysis. [10 Marks]"
   ],
   "attachments":{
    
   },
   "metadata":{
    "datalore":{
     "node_id":"IQ6qOx1H9wg7gqZPp6cLgK",
     "type":"MD",
     "hide_input_from_viewers":false,
     "hide_output_from_viewers":false
    }
   }
  },
  {
   "cell_type":"code",
   "source":[
    "#Importing all the packages\n",
    "import matplotlib.pyplot as plt\n",
    "import numpy as np\n",
    "%matplotlib inline\n",
    "import seaborn as sns\n",
    "import pandas as pd"
   ],
   "execution_count":317,
   "outputs":[
    
   ],
   "metadata":{
    "datalore":{
     "node_id":"rzsybLStovpzXZvSgJLypP",
     "type":"CODE",
     "hide_input_from_viewers":false,
     "hide_output_from_viewers":false
    }
   }
  },
  {
   "cell_type":"code",
   "source":[
    "#Information relating to the dataset\n",
    "dataset = pd.read_csv('DS+-+Part2+-+Basketball.csv')\n",
    "dataset.head()\n",
    "dataset.describe(include='all')\n",
    "dataset.info() \n",
    "dataset.shape\n",
    "dataset.tail()"
   ],
   "execution_count":318,
   "outputs":[
    {
     "name":"stdout",
     "text":[
      "<class 'pandas.core.frame.DataFrame'>\n",
      "RangeIndex: 61 entries, 0 to 60\n",
      "Data columns (total 13 columns):\n",
      " #   Column               Non-Null Count  Dtype \n",
      "---  ------               --------------  ----- \n",
      " 0   Team                 61 non-null     object\n",
      " 1   Tournament           61 non-null     int64 \n",
      " 2   Score                61 non-null     object\n",
      " 3   PlayedGames          61 non-null     object\n",
      " 4   WonGames             61 non-null     object\n",
      " 5   DrawnGames           61 non-null     object\n",
      " 6   LostGames            61 non-null     object\n",
      " 7   BasketScored         61 non-null     object\n",
      " 8   BasketGiven          61 non-null     object\n",
      " 9   TournamentChampion   61 non-null     object\n",
      " 10  Runner-up            61 non-null     object\n",
      " 11  TeamLaunch           61 non-null     object\n",
      " 12  HighestPositionHeld  61 non-null     int64 \n",
      "dtypes: int64(2), object(11)\n",
      "memory usage: 6.3+ KB\n"
     ],
     "output_type":"stream"
    },
    {
     "data":{
      "text\/html":[
       "<div>\n",
       "<style scoped>\n",
       "    .dataframe tbody tr th:only-of-type {\n",
       "        vertical-align: middle;\n",
       "    }\n",
       "\n",
       "    .dataframe tbody tr th {\n",
       "        vertical-align: top;\n",
       "    }\n",
       "\n",
       "    .dataframe thead th {\n",
       "        text-align: right;\n",
       "    }\n",
       "<\/style>\n",
       "<table border=\"1\" class=\"dataframe\">\n",
       "  <thead>\n",
       "    <tr style=\"text-align: right;\">\n",
       "      <th><\/th>\n",
       "      <th>Team<\/th>\n",
       "      <th>Tournament<\/th>\n",
       "      <th>Score<\/th>\n",
       "      <th>PlayedGames<\/th>\n",
       "      <th>WonGames<\/th>\n",
       "      <th>DrawnGames<\/th>\n",
       "      <th>LostGames<\/th>\n",
       "      <th>BasketScored<\/th>\n",
       "      <th>BasketGiven<\/th>\n",
       "      <th>TournamentChampion<\/th>\n",
       "      <th>Runner-up<\/th>\n",
       "      <th>TeamLaunch<\/th>\n",
       "      <th>HighestPositionHeld<\/th>\n",
       "    <\/tr>\n",
       "  <\/thead>\n",
       "  <tbody>\n",
       "    <tr>\n",
       "      <th>56<\/th>\n",
       "      <td>Team 57<\/td>\n",
       "      <td>1<\/td>\n",
       "      <td>34<\/td>\n",
       "      <td>38<\/td>\n",
       "      <td>8<\/td>\n",
       "      <td>10<\/td>\n",
       "      <td>20<\/td>\n",
       "      <td>38<\/td>\n",
       "      <td>66<\/td>\n",
       "      <td>-<\/td>\n",
       "      <td>-<\/td>\n",
       "      <td>2009-10<\/td>\n",
       "      <td>20<\/td>\n",
       "    <\/tr>\n",
       "    <tr>\n",
       "      <th>57<\/th>\n",
       "      <td>Team 58<\/td>\n",
       "      <td>1<\/td>\n",
       "      <td>22<\/td>\n",
       "      <td>30<\/td>\n",
       "      <td>7<\/td>\n",
       "      <td>8<\/td>\n",
       "      <td>15<\/td>\n",
       "      <td>37<\/td>\n",
       "      <td>57<\/td>\n",
       "      <td>-<\/td>\n",
       "      <td>-<\/td>\n",
       "      <td>1956-57<\/td>\n",
       "      <td>16<\/td>\n",
       "    <\/tr>\n",
       "    <tr>\n",
       "      <th>58<\/th>\n",
       "      <td>Team 59<\/td>\n",
       "      <td>1<\/td>\n",
       "      <td>19<\/td>\n",
       "      <td>30<\/td>\n",
       "      <td>7<\/td>\n",
       "      <td>5<\/td>\n",
       "      <td>18<\/td>\n",
       "      <td>51<\/td>\n",
       "      <td>85<\/td>\n",
       "      <td>-<\/td>\n",
       "      <td>-<\/td>\n",
       "      <td>1951~52<\/td>\n",
       "      <td>16<\/td>\n",
       "    <\/tr>\n",
       "    <tr>\n",
       "      <th>59<\/th>\n",
       "      <td>Team 60<\/td>\n",
       "      <td>1<\/td>\n",
       "      <td>14<\/td>\n",
       "      <td>30<\/td>\n",
       "      <td>5<\/td>\n",
       "      <td>4<\/td>\n",
       "      <td>21<\/td>\n",
       "      <td>34<\/td>\n",
       "      <td>65<\/td>\n",
       "      <td>-<\/td>\n",
       "      <td>-<\/td>\n",
       "      <td>1955-56<\/td>\n",
       "      <td>15<\/td>\n",
       "    <\/tr>\n",
       "    <tr>\n",
       "      <th>60<\/th>\n",
       "      <td>Team 61<\/td>\n",
       "      <td>1<\/td>\n",
       "      <td>-<\/td>\n",
       "      <td>-<\/td>\n",
       "      <td>-<\/td>\n",
       "      <td>-<\/td>\n",
       "      <td>-<\/td>\n",
       "      <td>-<\/td>\n",
       "      <td>-<\/td>\n",
       "      <td>-<\/td>\n",
       "      <td>-<\/td>\n",
       "      <td>2017~18<\/td>\n",
       "      <td>9<\/td>\n",
       "    <\/tr>\n",
       "  <\/tbody>\n",
       "<\/table>\n",
       "<\/div>"
      ]
     },
     "metadata":{
      
     },
     "output_type":"display_data"
    }
   ],
   "metadata":{
    "datalore":{
     "node_id":"oQ3cpZc7jKE59pJTDKnmKA",
     "type":"CODE",
     "hide_input_from_viewers":false,
     "hide_output_from_viewers":false
    }
   }
  },
  {
   "cell_type":"code",
   "source":[
    "#Cleaning the data values\n",
    "filter_data = dataset.isnull().sum()\n",
    "print(filter_data[0:13])\n",
    "dataset= dataset.replace('-',0)\n",
    "dataset = dataset.replace(to_replace ='to', value = '-', regex = True) \n",
    "dataset = dataset.replace(to_replace ='_', value = '-', regex = True) \n",
    "dataset = dataset.replace(to_replace ='~', value = '-', regex = True)\n",
    "\n",
    "dataset.head(10)"
   ],
   "execution_count":319,
   "outputs":[
    {
     "name":"stdout",
     "text":[
      "Team                   0\n",
      "Tournament             0\n",
      "Score                  0\n",
      "PlayedGames            0\n",
      "WonGames               0\n",
      "DrawnGames             0\n",
      "LostGames              0\n",
      "BasketScored           0\n",
      "BasketGiven            0\n",
      "TournamentChampion     0\n",
      "Runner-up              0\n",
      "TeamLaunch             0\n",
      "HighestPositionHeld    0\n",
      "dtype: int64\n"
     ],
     "output_type":"stream"
    },
    {
     "data":{
      "text\/html":[
       "<div>\n",
       "<style scoped>\n",
       "    .dataframe tbody tr th:only-of-type {\n",
       "        vertical-align: middle;\n",
       "    }\n",
       "\n",
       "    .dataframe tbody tr th {\n",
       "        vertical-align: top;\n",
       "    }\n",
       "\n",
       "    .dataframe thead th {\n",
       "        text-align: right;\n",
       "    }\n",
       "<\/style>\n",
       "<table border=\"1\" class=\"dataframe\">\n",
       "  <thead>\n",
       "    <tr style=\"text-align: right;\">\n",
       "      <th><\/th>\n",
       "      <th>Team<\/th>\n",
       "      <th>Tournament<\/th>\n",
       "      <th>Score<\/th>\n",
       "      <th>PlayedGames<\/th>\n",
       "      <th>WonGames<\/th>\n",
       "      <th>DrawnGames<\/th>\n",
       "      <th>LostGames<\/th>\n",
       "      <th>BasketScored<\/th>\n",
       "      <th>BasketGiven<\/th>\n",
       "      <th>TournamentChampion<\/th>\n",
       "      <th>Runner-up<\/th>\n",
       "      <th>TeamLaunch<\/th>\n",
       "      <th>HighestPositionHeld<\/th>\n",
       "    <\/tr>\n",
       "  <\/thead>\n",
       "  <tbody>\n",
       "    <tr>\n",
       "      <th>0<\/th>\n",
       "      <td>Team 1<\/td>\n",
       "      <td>86<\/td>\n",
       "      <td>4385<\/td>\n",
       "      <td>2762<\/td>\n",
       "      <td>1647<\/td>\n",
       "      <td>552<\/td>\n",
       "      <td>563<\/td>\n",
       "      <td>5947<\/td>\n",
       "      <td>3140<\/td>\n",
       "      <td>33<\/td>\n",
       "      <td>23<\/td>\n",
       "      <td>1929<\/td>\n",
       "      <td>1<\/td>\n",
       "    <\/tr>\n",
       "    <tr>\n",
       "      <th>1<\/th>\n",
       "      <td>Team 2<\/td>\n",
       "      <td>86<\/td>\n",
       "      <td>4262<\/td>\n",
       "      <td>2762<\/td>\n",
       "      <td>1581<\/td>\n",
       "      <td>573<\/td>\n",
       "      <td>608<\/td>\n",
       "      <td>5900<\/td>\n",
       "      <td>3114<\/td>\n",
       "      <td>25<\/td>\n",
       "      <td>25<\/td>\n",
       "      <td>1929<\/td>\n",
       "      <td>1<\/td>\n",
       "    <\/tr>\n",
       "    <tr>\n",
       "      <th>2<\/th>\n",
       "      <td>Team 3<\/td>\n",
       "      <td>80<\/td>\n",
       "      <td>3442<\/td>\n",
       "      <td>2614<\/td>\n",
       "      <td>1241<\/td>\n",
       "      <td>598<\/td>\n",
       "      <td>775<\/td>\n",
       "      <td>4534<\/td>\n",
       "      <td>3309<\/td>\n",
       "      <td>10<\/td>\n",
       "      <td>8<\/td>\n",
       "      <td>1929<\/td>\n",
       "      <td>1<\/td>\n",
       "    <\/tr>\n",
       "    <tr>\n",
       "      <th>3<\/th>\n",
       "      <td>Team 4<\/td>\n",
       "      <td>82<\/td>\n",
       "      <td>3386<\/td>\n",
       "      <td>2664<\/td>\n",
       "      <td>1187<\/td>\n",
       "      <td>616<\/td>\n",
       "      <td>861<\/td>\n",
       "      <td>4398<\/td>\n",
       "      <td>3469<\/td>\n",
       "      <td>6<\/td>\n",
       "      <td>6<\/td>\n",
       "      <td>1931-32<\/td>\n",
       "      <td>1<\/td>\n",
       "    <\/tr>\n",
       "    <tr>\n",
       "      <th>4<\/th>\n",
       "      <td>Team 5<\/td>\n",
       "      <td>86<\/td>\n",
       "      <td>3368<\/td>\n",
       "      <td>2762<\/td>\n",
       "      <td>1209<\/td>\n",
       "      <td>633<\/td>\n",
       "      <td>920<\/td>\n",
       "      <td>4631<\/td>\n",
       "      <td>3700<\/td>\n",
       "      <td>8<\/td>\n",
       "      <td>7<\/td>\n",
       "      <td>1929<\/td>\n",
       "      <td>1<\/td>\n",
       "    <\/tr>\n",
       "    <tr>\n",
       "      <th>5<\/th>\n",
       "      <td>Team 6<\/td>\n",
       "      <td>73<\/td>\n",
       "      <td>2819<\/td>\n",
       "      <td>2408<\/td>\n",
       "      <td>990<\/td>\n",
       "      <td>531<\/td>\n",
       "      <td>887<\/td>\n",
       "      <td>3680<\/td>\n",
       "      <td>3373<\/td>\n",
       "      <td>1<\/td>\n",
       "      <td>4<\/td>\n",
       "      <td>1934-35<\/td>\n",
       "      <td>1<\/td>\n",
       "    <\/tr>\n",
       "    <tr>\n",
       "      <th>6<\/th>\n",
       "      <td>Team 7<\/td>\n",
       "      <td>82<\/td>\n",
       "      <td>2792<\/td>\n",
       "      <td>2626<\/td>\n",
       "      <td>948<\/td>\n",
       "      <td>608<\/td>\n",
       "      <td>1070<\/td>\n",
       "      <td>3609<\/td>\n",
       "      <td>3889<\/td>\n",
       "      <td>0<\/td>\n",
       "      <td>0<\/td>\n",
       "      <td>1929<\/td>\n",
       "      <td>3<\/td>\n",
       "    <\/tr>\n",
       "    <tr>\n",
       "      <th>7<\/th>\n",
       "      <td>Team 8<\/td>\n",
       "      <td>70<\/td>\n",
       "      <td>2573<\/td>\n",
       "      <td>2302<\/td>\n",
       "      <td>864<\/td>\n",
       "      <td>577<\/td>\n",
       "      <td>861<\/td>\n",
       "      <td>3228<\/td>\n",
       "      <td>3230<\/td>\n",
       "      <td>2<\/td>\n",
       "      <td>3<\/td>\n",
       "      <td>1929<\/td>\n",
       "      <td>1<\/td>\n",
       "    <\/tr>\n",
       "    <tr>\n",
       "      <th>8<\/th>\n",
       "      <td>Team 9<\/td>\n",
       "      <td>58<\/td>\n",
       "      <td>2109<\/td>\n",
       "      <td>1986<\/td>\n",
       "      <td>698<\/td>\n",
       "      <td>522<\/td>\n",
       "      <td>766<\/td>\n",
       "      <td>2683<\/td>\n",
       "      <td>2847<\/td>\n",
       "      <td>0<\/td>\n",
       "      <td>1<\/td>\n",
       "      <td>1939-40<\/td>\n",
       "      <td>2<\/td>\n",
       "    <\/tr>\n",
       "    <tr>\n",
       "      <th>9<\/th>\n",
       "      <td>Team 10<\/td>\n",
       "      <td>51<\/td>\n",
       "      <td>1884<\/td>\n",
       "      <td>1728<\/td>\n",
       "      <td>606<\/td>\n",
       "      <td>440<\/td>\n",
       "      <td>682<\/td>\n",
       "      <td>2159<\/td>\n",
       "      <td>2492<\/td>\n",
       "      <td>1<\/td>\n",
       "      <td>0<\/td>\n",
       "      <td>1932-33<\/td>\n",
       "      <td>1<\/td>\n",
       "    <\/tr>\n",
       "  <\/tbody>\n",
       "<\/table>\n",
       "<\/div>"
      ]
     },
     "metadata":{
      
     },
     "output_type":"display_data"
    }
   ],
   "metadata":{
    "datalore":{
     "node_id":"qj1yp6dJy53zY7Bly78BUu",
     "type":"CODE",
     "hide_input_from_viewers":false,
     "hide_output_from_viewers":false
    }
   }
  },
  {
   "cell_type":"code",
   "source":[
    "#Converting the data type to int for further operations\n",
    "import re \n",
    "length=len(dataset['TeamLaunch'])\n",
    "for tl in range(length):\n",
    "    x=dataset.loc[tl,\"TeamLaunch\"]\n",
    "    t = re.findall(r'\\d\\d\\d\\d',x)\n",
    "    dataset.loc[tl,\"TeamLaunch\"]=t\n",
    "dataset['TeamLaunch'] = dataset['TeamLaunch'].astype(int)\n",
    "dataset.head(10)\n",
    "dataset_new = dataset.loc[:,dataset.columns !='Team'] \n",
    "dataset_new = dataset_new.astype(int)"
   ],
   "execution_count":320,
   "outputs":[
    
   ],
   "metadata":{
    "datalore":{
     "node_id":"hFoonNGrWGB82tq8JtKohX",
     "type":"CODE",
     "hide_input_from_viewers":false,
     "hide_output_from_viewers":false
    }
   }
  },
  {
   "cell_type":"code",
   "source":[
    "dataset_new.info()"
   ],
   "execution_count":321,
   "outputs":[
    {
     "name":"stdout",
     "text":[
      "<class 'pandas.core.frame.DataFrame'>\n",
      "RangeIndex: 61 entries, 0 to 60\n",
      "Data columns (total 12 columns):\n",
      " #   Column               Non-Null Count  Dtype\n",
      "---  ------               --------------  -----\n",
      " 0   Tournament           61 non-null     int64\n",
      " 1   Score                61 non-null     int64\n",
      " 2   PlayedGames          61 non-null     int64\n",
      " 3   WonGames             61 non-null     int64\n",
      " 4   DrawnGames           61 non-null     int64\n",
      " 5   LostGames            61 non-null     int64\n",
      " 6   BasketScored         61 non-null     int64\n",
      " 7   BasketGiven          61 non-null     int64\n",
      " 8   TournamentChampion   61 non-null     int64\n",
      " 9   Runner-up            61 non-null     int64\n",
      " 10  TeamLaunch           61 non-null     int64\n",
      " 11  HighestPositionHeld  61 non-null     int64\n",
      "dtypes: int64(12)\n",
      "memory usage: 5.8 KB\n"
     ],
     "output_type":"stream"
    }
   ],
   "metadata":{
    "datalore":{
     "node_id":"Qf5wicOqghPOnwp8PFWItB",
     "type":"CODE",
     "hide_input_from_viewers":false,
     "hide_output_from_viewers":false
    }
   }
  },
  {
   "cell_type":"markdown",
   "source":[
    "Q2 Perform detailed statistical analysis and EDA using univariate, bi-variate and multivariate EDA techniques \n",
    "to get data driven insights on recommending which teams they can approach which will be a deal win for them.\n",
    "Also as a data and statistics expert you have to develop a detailed performance report using this data."
   ],
   "attachments":{
    
   },
   "metadata":{
    "datalore":{
     "node_id":"LhVRRDeJh7BbiQ1iB7bLoP",
     "type":"MD",
     "hide_input_from_viewers":false,
     "hide_output_from_viewers":false
    }
   }
  },
  {
   "cell_type":"code",
   "source":[
    "#Appending 'Team' column to the first position\n",
    "dataset_new['Team']=(dataset['Team'])\n",
    "col_first =dataset_new.pop('Team')\n",
    "dataset_new.insert(0, 'Team', col_first) \n",
    "dataset_new.head()"
   ],
   "execution_count":322,
   "outputs":[
    {
     "data":{
      "text\/html":[
       "<div>\n",
       "<style scoped>\n",
       "    .dataframe tbody tr th:only-of-type {\n",
       "        vertical-align: middle;\n",
       "    }\n",
       "\n",
       "    .dataframe tbody tr th {\n",
       "        vertical-align: top;\n",
       "    }\n",
       "\n",
       "    .dataframe thead th {\n",
       "        text-align: right;\n",
       "    }\n",
       "<\/style>\n",
       "<table border=\"1\" class=\"dataframe\">\n",
       "  <thead>\n",
       "    <tr style=\"text-align: right;\">\n",
       "      <th><\/th>\n",
       "      <th>Team<\/th>\n",
       "      <th>Tournament<\/th>\n",
       "      <th>Score<\/th>\n",
       "      <th>PlayedGames<\/th>\n",
       "      <th>WonGames<\/th>\n",
       "      <th>DrawnGames<\/th>\n",
       "      <th>LostGames<\/th>\n",
       "      <th>BasketScored<\/th>\n",
       "      <th>BasketGiven<\/th>\n",
       "      <th>TournamentChampion<\/th>\n",
       "      <th>Runner-up<\/th>\n",
       "      <th>TeamLaunch<\/th>\n",
       "      <th>HighestPositionHeld<\/th>\n",
       "    <\/tr>\n",
       "  <\/thead>\n",
       "  <tbody>\n",
       "    <tr>\n",
       "      <th>0<\/th>\n",
       "      <td>Team 1<\/td>\n",
       "      <td>86<\/td>\n",
       "      <td>4385<\/td>\n",
       "      <td>2762<\/td>\n",
       "      <td>1647<\/td>\n",
       "      <td>552<\/td>\n",
       "      <td>563<\/td>\n",
       "      <td>5947<\/td>\n",
       "      <td>3140<\/td>\n",
       "      <td>33<\/td>\n",
       "      <td>23<\/td>\n",
       "      <td>1929<\/td>\n",
       "      <td>1<\/td>\n",
       "    <\/tr>\n",
       "    <tr>\n",
       "      <th>1<\/th>\n",
       "      <td>Team 2<\/td>\n",
       "      <td>86<\/td>\n",
       "      <td>4262<\/td>\n",
       "      <td>2762<\/td>\n",
       "      <td>1581<\/td>\n",
       "      <td>573<\/td>\n",
       "      <td>608<\/td>\n",
       "      <td>5900<\/td>\n",
       "      <td>3114<\/td>\n",
       "      <td>25<\/td>\n",
       "      <td>25<\/td>\n",
       "      <td>1929<\/td>\n",
       "      <td>1<\/td>\n",
       "    <\/tr>\n",
       "    <tr>\n",
       "      <th>2<\/th>\n",
       "      <td>Team 3<\/td>\n",
       "      <td>80<\/td>\n",
       "      <td>3442<\/td>\n",
       "      <td>2614<\/td>\n",
       "      <td>1241<\/td>\n",
       "      <td>598<\/td>\n",
       "      <td>775<\/td>\n",
       "      <td>4534<\/td>\n",
       "      <td>3309<\/td>\n",
       "      <td>10<\/td>\n",
       "      <td>8<\/td>\n",
       "      <td>1929<\/td>\n",
       "      <td>1<\/td>\n",
       "    <\/tr>\n",
       "    <tr>\n",
       "      <th>3<\/th>\n",
       "      <td>Team 4<\/td>\n",
       "      <td>82<\/td>\n",
       "      <td>3386<\/td>\n",
       "      <td>2664<\/td>\n",
       "      <td>1187<\/td>\n",
       "      <td>616<\/td>\n",
       "      <td>861<\/td>\n",
       "      <td>4398<\/td>\n",
       "      <td>3469<\/td>\n",
       "      <td>6<\/td>\n",
       "      <td>6<\/td>\n",
       "      <td>1931<\/td>\n",
       "      <td>1<\/td>\n",
       "    <\/tr>\n",
       "    <tr>\n",
       "      <th>4<\/th>\n",
       "      <td>Team 5<\/td>\n",
       "      <td>86<\/td>\n",
       "      <td>3368<\/td>\n",
       "      <td>2762<\/td>\n",
       "      <td>1209<\/td>\n",
       "      <td>633<\/td>\n",
       "      <td>920<\/td>\n",
       "      <td>4631<\/td>\n",
       "      <td>3700<\/td>\n",
       "      <td>8<\/td>\n",
       "      <td>7<\/td>\n",
       "      <td>1929<\/td>\n",
       "      <td>1<\/td>\n",
       "    <\/tr>\n",
       "  <\/tbody>\n",
       "<\/table>\n",
       "<\/div>"
      ]
     },
     "metadata":{
      
     },
     "output_type":"display_data"
    }
   ],
   "metadata":{
    "datalore":{
     "node_id":"9rcqlolTujeCzH2eEsFQMN",
     "type":"CODE",
     "hide_input_from_viewers":false,
     "hide_output_from_viewers":false
    }
   }
  },
  {
   "cell_type":"code",
   "source":[
    "#Teams who played the maximum no. of tournaments\n",
    "dataset_new.groupby(['Team'])['Tournament'].sum().sort_values(ascending=False).head(10)"
   ],
   "execution_count":323,
   "outputs":[
    {
     "data":{
      "text\/html":[
       
      ]
     },
     "metadata":{
      
     },
     "output_type":"display_data"
    }
   ],
   "metadata":{
    "datalore":{
     "node_id":"7Pmt6lTNFYFdVfHSQOCv7c",
     "type":"CODE",
     "hide_input_from_viewers":false,
     "hide_output_from_viewers":false
    }
   }
  },
  {
   "cell_type":"code",
   "source":[
    "#Teams who played the minimum no. of tournaments\n",
    "dataset_new.groupby(['Team'])['Tournament'].sum().sort_values(ascending=True).head(10)"
   ],
   "execution_count":324,
   "outputs":[
    {
     "data":{
      "text\/html":[
       
      ]
     },
     "metadata":{
      
     },
     "output_type":"display_data"
    }
   ],
   "metadata":{
    "datalore":{
     "node_id":"OjrN5RbgvEKitoXgGbTkW7",
     "type":"CODE",
     "hide_input_from_viewers":false,
     "hide_output_from_viewers":false
    }
   }
  },
  {
   "cell_type":"code",
   "source":[
    "#No. of teams with maximum percentage of championship in played games\n",
    "dataset_new['Champions'] = dataset_new['TournamentChampion']\/dataset_new['Tournament']\n",
    "dataset_new['Champions'].dtype\n",
    "Champions = dataset_new['Champions'].sort_values(ascending =False).head(10)\n",
    "print('The top five Champion teams are given below')\n",
    "dataset_new.groupby(['Team'])['Champions'].sum().sort_values(ascending =False).head(5)"
   ],
   "execution_count":325,
   "outputs":[
    {
     "name":"stdout",
     "text":[
      "The top five Champion teams are given below\n"
     ],
     "output_type":"stream"
    },
    {
     "data":{
      "text\/html":[
       
      ]
     },
     "metadata":{
      
     },
     "output_type":"display_data"
    }
   ],
   "metadata":{
    "datalore":{
     "node_id":"ipeffsj7olrtjQfw0Kud3x",
     "type":"CODE",
     "hide_input_from_viewers":false,
     "hide_output_from_viewers":false
    }
   }
  },
  {
   "cell_type":"code",
   "source":[
    "#Winning percentage for the games played and games won\n",
    "dataset_new['WinResult'] = dataset_new['WonGames']\/dataset_new['PlayedGames']\n",
    "dataset_new['WinResult'].dtype\n",
    "Top_five = dataset_new['WinResult'].sort_values(ascending =False).head(10)\n",
    "print('The top five teams who won the maximum no. of games are given below')\n",
    "dataset_new.groupby(['Team'])['WinResult'].sum().sort_values(ascending =False).head(5)"
   ],
   "execution_count":326,
   "outputs":[
    {
     "name":"stdout",
     "text":[
      "The top five teams who won the maximum no. of games are given below\n"
     ],
     "output_type":"stream"
    },
    {
     "data":{
      "text\/html":[
       
      ]
     },
     "metadata":{
      
     },
     "output_type":"display_data"
    }
   ],
   "metadata":{
    "datalore":{
     "node_id":"X61pI2nzlvikCWRg50QWvc",
     "type":"CODE",
     "hide_input_from_viewers":false,
     "hide_output_from_viewers":false
    }
   }
  },
  {
   "cell_type":"code",
   "source":[
    "#Calculation showing insertion of a new column for finding the age of team with reference to the year 2022 and oldest team\n",
    "dataset_new['Age_of_team'] = 2022-dataset_new['TeamLaunch']\n",
    "print('Age of the oldest team is:  ',dataset_new['Age_of_team'].max())\n",
    "print('Oldest teams in the tournaments are given below ')\n",
    "print(dataset_new[dataset_new['Age_of_team'] == dataset_new['Age_of_team'].max()]) "
   ],
   "execution_count":327,
   "outputs":[
    {
     "name":"stdout",
     "text":[
      "Age of the oldest team is:   93\n",
      "Oldest teams in the tournaments are given below \n",
      "       Team  Tournament  Score  PlayedGames  WonGames  DrawnGames  LostGames  \\\n",
      "0    Team 1          86   4385         2762      1647         552        563   \n",
      "1    Team 2          86   4262         2762      1581         573        608   \n",
      "2    Team 3          80   3442         2614      1241         598        775   \n",
      "4    Team 5          86   3368         2762      1209         633        920   \n",
      "6    Team 7          82   2792         2626       948         608       1070   \n",
      "7    Team 8          70   2573         2302       864         577        861   \n",
      "13  Team 14          44   1416         1428       453         336        639   \n",
      "44  Team 45           7    107          130        43          21         66   \n",
      "51  Team 52           4     56           72        21          14         37   \n",
      "53  Team 54           3     42           54        18           6         30   \n",
      "\n",
      "    BasketScored  BasketGiven  TournamentChampion  Runner-up  TeamLaunch  \\\n",
      "0           5947         3140                  33         23        1929   \n",
      "1           5900         3114                  25         25        1929   \n",
      "2           4534         3309                  10          8        1929   \n",
      "4           4631         3700                   8          7        1929   \n",
      "6           3609         3889                   0          0        1929   \n",
      "7           3228         3230                   2          3        1929   \n",
      "13          1843         2368                   0          1        1929   \n",
      "44           227          308                   0          0        1929   \n",
      "51           153          184                   0          0        1929   \n",
      "53            97          131                   0          0        1929   \n",
      "\n",
      "    HighestPositionHeld  Champions  WinResult  Age_of_team  \n",
      "0                     1   0.383721   0.596307           93  \n",
      "1                     1   0.290698   0.572411           93  \n",
      "2                     1   0.125000   0.474751           93  \n",
      "4                     1   0.093023   0.437726           93  \n",
      "6                     3   0.000000   0.361005           93  \n",
      "7                     1   0.028571   0.375326           93  \n",
      "13                    2   0.000000   0.317227           93  \n",
      "44                    3   0.000000   0.330769           93  \n",
      "51                    6   0.000000   0.291667           93  \n",
      "53                    8   0.000000   0.333333           93  \n"
     ],
     "output_type":"stream"
    }
   ],
   "metadata":{
    "datalore":{
     "node_id":"lNVutyV1Xu6dsF4XJjqv2u",
     "type":"CODE",
     "hide_input_from_viewers":false,
     "hide_output_from_viewers":false
    }
   }
  },
  {
   "cell_type":"code",
   "source":[
    "#Printing the newest team in the tournament and the age\n",
    "print('Age of the newest team is: ',dataset_new['Age_of_team'].min())\n",
    "print('Newest teams in the tournaments are given below ')\n",
    "print(dataset_new[dataset_new['Age_of_team'] == dataset_new['Age_of_team'].min()])"
   ],
   "execution_count":328,
   "outputs":[
    {
     "name":"stdout",
     "text":[
      "Age of the newest team is:  5\n",
      "Newest teams in the tournaments are given below \n",
      "       Team  Tournament  Score  PlayedGames  WonGames  DrawnGames  LostGames  \\\n",
      "60  Team 61           1      0            0         0           0          0   \n",
      "\n",
      "    BasketScored  BasketGiven  TournamentChampion  Runner-up  TeamLaunch  \\\n",
      "60             0            0                   0          0        2017   \n",
      "\n",
      "    HighestPositionHeld  Champions  WinResult  Age_of_team  \n",
      "60                    9        0.0        NaN            5  \n"
     ],
     "output_type":"stream"
    }
   ],
   "metadata":{
    "datalore":{
     "node_id":"iYoVbiB5sQfA7ZUBZARK19",
     "type":"CODE",
     "hide_input_from_viewers":false,
     "hide_output_from_viewers":false
    }
   }
  },
  {
   "cell_type":"code",
   "source":[
    "#Teams who played maximum no. of tournaments\n",
    "dataset_new['TeamExp'] = dataset_new['Age_of_team']\/dataset_new['Tournament']\n",
    "dataset_new['TeamExp'].dtype\n",
    "print('Five teams with maximum no. of tournaments played are given below:')\n",
    "dataset_new.groupby(['Team'])['TeamExp'].sum().sort_values(ascending =False).head(5)"
   ],
   "execution_count":329,
   "outputs":[
    {
     "name":"stdout",
     "text":[
      "Five teams with maximum no. of tournaments played are given below:\n"
     ],
     "output_type":"stream"
    },
    {
     "data":{
      "text\/html":[
       
      ]
     },
     "metadata":{
      
     },
     "output_type":"display_data"
    }
   ],
   "metadata":{
    "datalore":{
     "node_id":"ZVJzR55LAxB8Zn6pkMJHZd",
     "type":"CODE",
     "hide_input_from_viewers":false,
     "hide_output_from_viewers":false
    }
   }
  },
  {
   "cell_type":"code",
   "source":[
    "#Teams who played minimum no. of tournaments\n",
    "print('Five teams with minimum no. of tournaments played are given below:')\n",
    "dataset_new.groupby(['Team'])['TeamExp'].sum().sort_values(ascending =True).head(5)"
   ],
   "execution_count":330,
   "outputs":[
    {
     "name":"stdout",
     "text":[
      "Five teams with minimum no. of tournaments played are given below:\n"
     ],
     "output_type":"stream"
    },
    {
     "data":{
      "text\/html":[
       
      ]
     },
     "metadata":{
      
     },
     "output_type":"display_data"
    }
   ],
   "metadata":{
    "datalore":{
     "node_id":"Mi5keArpvoftwgNrd224zG",
     "type":"CODE",
     "hide_input_from_viewers":false,
     "hide_output_from_viewers":false
    }
   }
  },
  {
   "cell_type":"code",
   "source":[
    "# % of championships w.r.t. experience \n",
    "dataset_new['TeamPerformance'] = dataset_new['Champions']\/dataset_new['TeamExp']\n",
    "dataset_new['TeamPerformance'].dtype\n",
    "print('Top five teams with percentage of championship with respect to experience are given below')\n",
    "dataset_new.groupby(['Team'])['TeamPerformance'].sum().sort_values(ascending =False).head(5)"
   ],
   "execution_count":331,
   "outputs":[
    {
     "name":"stdout",
     "text":[
      "Top five teams with percentage of championship with respect to experience are given below\n"
     ],
     "output_type":"stream"
    },
    {
     "data":{
      "text\/html":[
       
      ]
     },
     "metadata":{
      
     },
     "output_type":"display_data"
    }
   ],
   "metadata":{
    "datalore":{
     "node_id":"h6oFyPLwX494BbykpBefLM",
     "type":"CODE",
     "hide_input_from_viewers":false,
     "hide_output_from_viewers":false
    }
   }
  },
  {
   "cell_type":"code",
   "source":[
    "\n",
    "#Filter the dataframe\n",
    "df1=dataset_new.filter(items=['Team', 'Age_of_team', 'TeamExp','TeamPerformance','WinResult','Champions']) \n",
    "df1"
   ],
   "execution_count":332,
   "outputs":[
    {
     "data":{
      "text\/html":[
       "<div>\n",
       "<style scoped>\n",
       "    .dataframe tbody tr th:only-of-type {\n",
       "        vertical-align: middle;\n",
       "    }\n",
       "\n",
       "    .dataframe tbody tr th {\n",
       "        vertical-align: top;\n",
       "    }\n",
       "\n",
       "    .dataframe thead th {\n",
       "        text-align: right;\n",
       "    }\n",
       "<\/style>\n",
       "<table border=\"1\" class=\"dataframe\">\n",
       "  <thead>\n",
       "    <tr style=\"text-align: right;\">\n",
       "      <th><\/th>\n",
       "      <th>Team<\/th>\n",
       "      <th>Age_of_team<\/th>\n",
       "      <th>TeamExp<\/th>\n",
       "      <th>TeamPerformance<\/th>\n",
       "      <th>WinResult<\/th>\n",
       "      <th>Champions<\/th>\n",
       "    <\/tr>\n",
       "  <\/thead>\n",
       "  <tbody>\n",
       "    <tr>\n",
       "      <th>0<\/th>\n",
       "      <td>Team 1<\/td>\n",
       "      <td>93<\/td>\n",
       "      <td>1.081395<\/td>\n",
       "      <td>0.354839<\/td>\n",
       "      <td>0.596307<\/td>\n",
       "      <td>0.383721<\/td>\n",
       "    <\/tr>\n",
       "    <tr>\n",
       "      <th>1<\/th>\n",
       "      <td>Team 2<\/td>\n",
       "      <td>93<\/td>\n",
       "      <td>1.081395<\/td>\n",
       "      <td>0.268817<\/td>\n",
       "      <td>0.572411<\/td>\n",
       "      <td>0.290698<\/td>\n",
       "    <\/tr>\n",
       "    <tr>\n",
       "      <th>2<\/th>\n",
       "      <td>Team 3<\/td>\n",
       "      <td>93<\/td>\n",
       "      <td>1.162500<\/td>\n",
       "      <td>0.107527<\/td>\n",
       "      <td>0.474751<\/td>\n",
       "      <td>0.125000<\/td>\n",
       "    <\/tr>\n",
       "    <tr>\n",
       "      <th>3<\/th>\n",
       "      <td>Team 4<\/td>\n",
       "      <td>91<\/td>\n",
       "      <td>1.109756<\/td>\n",
       "      <td>0.065934<\/td>\n",
       "      <td>0.445571<\/td>\n",
       "      <td>0.073171<\/td>\n",
       "    <\/tr>\n",
       "    <tr>\n",
       "      <th>4<\/th>\n",
       "      <td>Team 5<\/td>\n",
       "      <td>93<\/td>\n",
       "      <td>1.081395<\/td>\n",
       "      <td>0.086022<\/td>\n",
       "      <td>0.437726<\/td>\n",
       "      <td>0.093023<\/td>\n",
       "    <\/tr>\n",
       "    <tr>\n",
       "      <th>...<\/th>\n",
       "      <td>...<\/td>\n",
       "      <td>...<\/td>\n",
       "      <td>...<\/td>\n",
       "      <td>...<\/td>\n",
       "      <td>...<\/td>\n",
       "      <td>...<\/td>\n",
       "    <\/tr>\n",
       "    <tr>\n",
       "      <th>56<\/th>\n",
       "      <td>Team 57<\/td>\n",
       "      <td>13<\/td>\n",
       "      <td>13.000000<\/td>\n",
       "      <td>0.000000<\/td>\n",
       "      <td>0.210526<\/td>\n",
       "      <td>0.000000<\/td>\n",
       "    <\/tr>\n",
       "    <tr>\n",
       "      <th>57<\/th>\n",
       "      <td>Team 58<\/td>\n",
       "      <td>66<\/td>\n",
       "      <td>66.000000<\/td>\n",
       "      <td>0.000000<\/td>\n",
       "      <td>0.233333<\/td>\n",
       "      <td>0.000000<\/td>\n",
       "    <\/tr>\n",
       "    <tr>\n",
       "      <th>58<\/th>\n",
       "      <td>Team 59<\/td>\n",
       "      <td>71<\/td>\n",
       "      <td>71.000000<\/td>\n",
       "      <td>0.000000<\/td>\n",
       "      <td>0.233333<\/td>\n",
       "      <td>0.000000<\/td>\n",
       "    <\/tr>\n",
       "    <tr>\n",
       "      <th>59<\/th>\n",
       "      <td>Team 60<\/td>\n",
       "      <td>67<\/td>\n",
       "      <td>67.000000<\/td>\n",
       "      <td>0.000000<\/td>\n",
       "      <td>0.166667<\/td>\n",
       "      <td>0.000000<\/td>\n",
       "    <\/tr>\n",
       "    <tr>\n",
       "      <th>60<\/th>\n",
       "      <td>Team 61<\/td>\n",
       "      <td>5<\/td>\n",
       "      <td>5.000000<\/td>\n",
       "      <td>0.000000<\/td>\n",
       "      <td>NaN<\/td>\n",
       "      <td>0.000000<\/td>\n",
       "    <\/tr>\n",
       "  <\/tbody>\n",
       "<\/table>\n",
       "<p>61 rows × 6 columns<\/p>\n",
       "<\/div>"
      ]
     },
     "metadata":{
      
     },
     "output_type":"display_data"
    }
   ],
   "metadata":{
    "datalore":{
     "node_id":"BNyAuxvVV8cPFuLyzTMg1B",
     "type":"CODE",
     "hide_input_from_viewers":false,
     "hide_output_from_viewers":false
    }
   }
  },
  {
   "cell_type":"code",
   "source":[
    "#Plot bar graph between Age of Team and Team Performance\n",
    "plt.figure(figsize = (16,16))\n",
    "sns.barplot(x='Age_of_team', y='TeamPerformance',data=df1);"
   ],
   "execution_count":333,
   "outputs":[
    {
     "data":{
      "image\/png":"[encoded data removed]"
     },
     "metadata":{
      "image\/png":{
       
      }
     },
     "output_type":"display_data"
    }
   ],
   "metadata":{
    "datalore":{
     "node_id":"LtG2ddDcNETJcbuIkA2wiV",
     "type":"CODE",
     "hide_input_from_viewers":false,
     "hide_output_from_viewers":false
    }
   }
  },
  {
   "cell_type":"markdown",
   "source":[
    "# **Comment: With the above data, We can conclude that Team with age of 93 has a better performance among the others (Team 1,2,3)**"
   ],
   "attachments":{
    
   },
   "metadata":{
    "datalore":{
     "node_id":"pTO3CMtb0mJaD9DZ1h2e1d",
     "type":"MD",
     "hide_input_from_viewers":false,
     "hide_output_from_viewers":false
    }
   }
  },
  {
   "cell_type":"code",
   "source":[
    "#10 Teams with better win results\n",
    "df2=dataset_new.groupby(['Age_of_team'])['WinResult'].sum().sort_values(ascending =False).head(10)                                                                                           \n",
    "plt.figure(figsize = (10,10))\n",
    "sns.barplot(y = df2.values ,x = df2.index);"
   ],
   "execution_count":334,
   "outputs":[
    {
     "data":{
      "image\/png":"[encoded data removed]"
     },
     "metadata":{
      "image\/png":{
       
      }
     },
     "output_type":"display_data"
    }
   ],
   "metadata":{
    "datalore":{
     "node_id":"okWxvLswD43dbwGzncUQgs",
     "type":"CODE",
     "hide_input_from_viewers":false,
     "hide_output_from_viewers":false
    }
   }
  },
  {
   "cell_type":"code",
   "source":[
    "#Correlation between all the metrics\n",
    "correl=df1.corr()\n",
    "correl"
   ],
   "execution_count":335,
   "outputs":[
    {
     "data":{
      "text\/html":[
       "<div>\n",
       "<style scoped>\n",
       "    .dataframe tbody tr th:only-of-type {\n",
       "        vertical-align: middle;\n",
       "    }\n",
       "\n",
       "    .dataframe tbody tr th {\n",
       "        vertical-align: top;\n",
       "    }\n",
       "\n",
       "    .dataframe thead th {\n",
       "        text-align: right;\n",
       "    }\n",
       "<\/style>\n",
       "<table border=\"1\" class=\"dataframe\">\n",
       "  <thead>\n",
       "    <tr style=\"text-align: right;\">\n",
       "      <th><\/th>\n",
       "      <th>Age_of_team<\/th>\n",
       "      <th>TeamExp<\/th>\n",
       "      <th>TeamPerformance<\/th>\n",
       "      <th>WinResult<\/th>\n",
       "      <th>Champions<\/th>\n",
       "    <\/tr>\n",
       "  <\/thead>\n",
       "  <tbody>\n",
       "    <tr>\n",
       "      <th>Age_of_team<\/th>\n",
       "      <td>1.000000<\/td>\n",
       "      <td>0.026868<\/td>\n",
       "      <td>0.285753<\/td>\n",
       "      <td>0.491259<\/td>\n",
       "      <td>0.292787<\/td>\n",
       "    <\/tr>\n",
       "    <tr>\n",
       "      <th>TeamExp<\/th>\n",
       "      <td>0.026868<\/td>\n",
       "      <td>1.000000<\/td>\n",
       "      <td>-0.152375<\/td>\n",
       "      <td>-0.459467<\/td>\n",
       "      <td>-0.156552<\/td>\n",
       "    <\/tr>\n",
       "    <tr>\n",
       "      <th>TeamPerformance<\/th>\n",
       "      <td>0.285753<\/td>\n",
       "      <td>-0.152375<\/td>\n",
       "      <td>1.000000<\/td>\n",
       "      <td>0.766396<\/td>\n",
       "      <td>0.999543<\/td>\n",
       "    <\/tr>\n",
       "    <tr>\n",
       "      <th>WinResult<\/th>\n",
       "      <td>0.491259<\/td>\n",
       "      <td>-0.459467<\/td>\n",
       "      <td>0.766396<\/td>\n",
       "      <td>1.000000<\/td>\n",
       "      <td>0.772811<\/td>\n",
       "    <\/tr>\n",
       "    <tr>\n",
       "      <th>Champions<\/th>\n",
       "      <td>0.292787<\/td>\n",
       "      <td>-0.156552<\/td>\n",
       "      <td>0.999543<\/td>\n",
       "      <td>0.772811<\/td>\n",
       "      <td>1.000000<\/td>\n",
       "    <\/tr>\n",
       "  <\/tbody>\n",
       "<\/table>\n",
       "<\/div>"
      ]
     },
     "metadata":{
      
     },
     "output_type":"display_data"
    }
   ],
   "metadata":{
    "datalore":{
     "node_id":"oo4u0F0fyDkp3SNgCc9C00",
     "type":"CODE",
     "hide_input_from_viewers":false,
     "hide_output_from_viewers":false
    }
   }
  },
  {
   "cell_type":"code",
   "source":[
    "#heatmap of the data\n",
    "sns.heatmap(correl, annot = True);"
   ],
   "execution_count":336,
   "outputs":[
    {
     "data":{
      "image\/png":"[encoded data removed]"
     },
     "metadata":{
      "image\/png":{
       
      }
     },
     "output_type":"display_data"
    }
   ],
   "metadata":{
    "datalore":{
     "node_id":"Nt2axR6zX0Zv7GuRCP45SO",
     "type":"CODE",
     "hide_input_from_viewers":false,
     "hide_output_from_viewers":false
    }
   }
  },
  {
   "cell_type":"markdown",
   "source":[
    "# **Comment**: The above correlation table shown in the heatmap shows a very high correlation between the \"TeamPerformance\" and \"Champions\""
   ],
   "attachments":{
    
   },
   "metadata":{
    "datalore":{
     "node_id":"CbWiH1I4cZ9SdXi1gxyKjL",
     "type":"MD",
     "hide_input_from_viewers":false,
     "hide_output_from_viewers":false
    }
   }
  },
  {
   "cell_type":"code",
   "source":[
    "#Top 10 teams that were champions \n",
    "df3=dataset_new.groupby(['Age_of_team'])['Champions'].sum().sort_values(ascending =False).head(10)                                                                                           \n",
    "plt.figure(figsize = (10,10))\n",
    "sns.barplot(y = df3.values ,x = df3.index);"
   ],
   "execution_count":337,
   "outputs":[
    {
     "data":{
      "image\/png":"[encoded data removed]"
     },
     "metadata":{
      "image\/png":{
       
      }
     },
     "output_type":"display_data"
    }
   ],
   "metadata":{
    "datalore":{
     "node_id":"E8eAcxW6KXI8ScfaeUB601",
     "type":"CODE",
     "hide_input_from_viewers":false,
     "hide_output_from_viewers":false
    }
   }
  },
  {
   "cell_type":"code",
   "source":[
    "#Scatterplot to compare new vs old teams wrt \"Age\" and \"HighestPositionHeld\" (Basis: Championship)\n",
    "sns.scatterplot(data=dataset_new, x=\"Champions\", y=\"HighestPositionHeld\",size=\"Age_of_team\");"
   ],
   "execution_count":338,
   "outputs":[
    {
     "data":{
      "image\/png":"[encoded data removed]"
     },
     "metadata":{
      "image\/png":{
       
      }
     },
     "output_type":"display_data"
    }
   ],
   "metadata":{
    "datalore":{
     "node_id":"xKpyH1WhEKJ2Y6iVmzjZ1H",
     "type":"CODE",
     "hide_input_from_viewers":false,
     "hide_output_from_viewers":false
    }
   }
  },
  {
   "cell_type":"code",
   "source":[
    "#Scatterplot to compare new vs old teams wrt \"Age\" and \"HighestPositionHeld\" (Basis: WinResult)\n",
    "sns.scatterplot(data=dataset_new, x=\"WinResult\", y=\"HighestPositionHeld\",size=\"Age_of_team\");"
   ],
   "execution_count":339,
   "outputs":[
    {
     "data":{
      "image\/png":"[encoded data removed]"
     },
     "metadata":{
      "image\/png":{
       
      }
     },
     "output_type":"display_data"
    }
   ],
   "metadata":{
    "datalore":{
     "node_id":"mGXy9yHO4yplJayN9JwD8H",
     "type":"CODE",
     "hide_input_from_viewers":false,
     "hide_output_from_viewers":false
    }
   }
  },
  {
   "cell_type":"markdown",
   "source":[
    "# **Comment: With the above data, We can conclude that, The team with age equal to 15 held the highest position.**"
   ],
   "attachments":{
    
   },
   "metadata":{
    "datalore":{
     "node_id":"Qu3nNxnzCZlvQNvCO717Ub",
     "type":"MD",
     "hide_input_from_viewers":false,
     "hide_output_from_viewers":false
    }
   }
  },
  {
   "cell_type":"code",
   "source":[
    "sns.lmplot(x=\"WinResult\", y=\"HighestPositionHeld\", hue = \"Team\", data=dataset_new);"
   ],
   "execution_count":340,
   "outputs":[
    {
     "data":{
      "image\/png":"[encoded data removed]"
     },
     "metadata":{
      "image\/png":{
       
      }
     },
     "output_type":"display_data"
    }
   ],
   "metadata":{
    "datalore":{
     "node_id":"NgyLOQ58IbYYgZAlCGKBKS",
     "type":"CODE",
     "hide_input_from_viewers":false,
     "hide_output_from_viewers":false
    }
   }
  },
  {
   "cell_type":"markdown",
   "source":[
    "# **Comment: With the above data, We can conclude that, The team no. 57 held the highest position.**"
   ],
   "attachments":{
    
   },
   "metadata":{
    "datalore":{
     "node_id":"RGCqy0bGL5FgywPT4B98BU",
     "type":"MD",
     "hide_input_from_viewers":false,
     "hide_output_from_viewers":false
    }
   }
  },
  {
   "cell_type":"code",
   "source":[
    "\n",
    "import seaborn as sns\n",
    "Tournament_mean = dataset['Tournament'].mean()\n",
    "Tournament_median = dataset['Tournament'].median()\n",
    "Tournament_mode = dataset['Tournament'].mode()\n",
    "print('The Mean: ',Tournament_mean,'\\nThe Median: ',Tournament_median,'\\nThe Mode: ',Tournament_mode[0])\n",
    "\n",
    "fig, ax_hist = plt.subplots(figsize = (12.8, 6))\n",
    "ax_hist = sns.distplot(dataset['Tournament'])\n",
    "\n",
    "ax_hist.axvline(Tournament_mean, color = 'r', linestyle = '--', label = 'Mean')\n",
    "ax_hist.axvline(Tournament_median, color = 'g', linestyle = '-', label = 'Median')\n",
    "ax_hist.axvline(Tournament_mode[0], color = 'b', linestyle = '-', label = 'Mode')\n",
    "ax_hist.set_title('3Ms and Distribution of Tournament')\n",
    "plt.title(\"Histogram for 3Ms and Distribution of Tournament\")\n",
    "\n",
    "plt.legend(); plt.show()"
   ],
   "execution_count":341,
   "outputs":[
    {
     "name":"stdout",
     "text":[
      "The Mean:  24.0 \n",
      "The Median:  12.0 \n",
      "The Mode:  1\n"
     ],
     "output_type":"stream"
    },
    {
     "data":{
      "image\/png":"[encoded data removed]"
     },
     "metadata":{
      "image\/png":{
       
      }
     },
     "output_type":"display_data"
    }
   ],
   "metadata":{
    "datalore":{
     "node_id":"dyfbk8SB9tuLlLIlIn5Sqq",
     "type":"CODE",
     "hide_input_from_viewers":false,
     "hide_output_from_viewers":false
    }
   }
  },
  {
   "cell_type":"code",
   "source":[
    "HighestPositionHeld_mean = dataset['HighestPositionHeld'].mean()\n",
    "HighestPositionHeld_median = dataset['HighestPositionHeld'].median()\n",
    "HighestPositionHeld_mode = dataset['HighestPositionHeld'].mode()\n",
    "print('The Mean: ',HighestPositionHeld_mean,'\\nThe Median: ',HighestPositionHeld_median,'\\nThe Mode: ',HighestPositionHeld_mode[0])\n",
    "\n",
    "fig, ax_hist = plt.subplots(figsize = (12.8, 6))\n",
    "ax_hist = sns.distplot(dataset['HighestPositionHeld'])\n",
    "\n",
    "ax_hist.axvline(HighestPositionHeld_mean, color = 'r', linestyle = '--', label = 'Mean')\n",
    "ax_hist.axvline(HighestPositionHeld_median, color = 'g', linestyle = '-', label = 'Median')\n",
    "ax_hist.axvline(HighestPositionHeld_mode[0], color = 'b', linestyle = '-', label = 'Mode')\n",
    "ax_hist.set_title('3Ms and Distribution of HighestPositionHeld')\n",
    "\n",
    "plt.legend(); plt.show()"
   ],
   "execution_count":342,
   "outputs":[
    {
     "name":"stdout",
     "text":[
      "The Mean:  7.081967213114754 \n",
      "The Median:  6.0 \n",
      "The Mode:  1\n"
     ],
     "output_type":"stream"
    },
    {
     "data":{
      "image\/png":"[encoded data removed]"
     },
     "metadata":{
      "image\/png":{
       
      }
     },
     "output_type":"display_data"
    }
   ],
   "metadata":{
    "datalore":{
     "node_id":"QPn5GzECxcEuwJXEFg2g5P",
     "type":"CODE",
     "hide_input_from_viewers":false,
     "hide_output_from_viewers":false
    }
   }
  },
  {
   "cell_type":"code",
   "source":[
    "df4 = df1.sort_values(by='WinResult',ascending=False)\n",
    "print('The Top Old Teams are shown in Table 1\\nTABLE 1')\n",
    "df4.sort_values(by='Age_of_team',ascending=False).head(5) "
   ],
   "execution_count":343,
   "outputs":[
    {
     "name":"stdout",
     "text":[
      "The Top Old Teams are shown in Table 1\n",
      "TABLE 1\n"
     ],
     "output_type":"stream"
    },
    {
     "data":{
      "text\/html":[
       "<div>\n",
       "<style scoped>\n",
       "    .dataframe tbody tr th:only-of-type {\n",
       "        vertical-align: middle;\n",
       "    }\n",
       "\n",
       "    .dataframe tbody tr th {\n",
       "        vertical-align: top;\n",
       "    }\n",
       "\n",
       "    .dataframe thead th {\n",
       "        text-align: right;\n",
       "    }\n",
       "<\/style>\n",
       "<table border=\"1\" class=\"dataframe\">\n",
       "  <thead>\n",
       "    <tr style=\"text-align: right;\">\n",
       "      <th><\/th>\n",
       "      <th>Team<\/th>\n",
       "      <th>Age_of_team<\/th>\n",
       "      <th>TeamExp<\/th>\n",
       "      <th>TeamPerformance<\/th>\n",
       "      <th>WinResult<\/th>\n",
       "      <th>Champions<\/th>\n",
       "    <\/tr>\n",
       "  <\/thead>\n",
       "  <tbody>\n",
       "    <tr>\n",
       "      <th>0<\/th>\n",
       "      <td>Team 1<\/td>\n",
       "      <td>93<\/td>\n",
       "      <td>1.081395<\/td>\n",
       "      <td>0.354839<\/td>\n",
       "      <td>0.596307<\/td>\n",
       "      <td>0.383721<\/td>\n",
       "    <\/tr>\n",
       "    <tr>\n",
       "      <th>51<\/th>\n",
       "      <td>Team 52<\/td>\n",
       "      <td>93<\/td>\n",
       "      <td>23.250000<\/td>\n",
       "      <td>0.000000<\/td>\n",
       "      <td>0.291667<\/td>\n",
       "      <td>0.000000<\/td>\n",
       "    <\/tr>\n",
       "    <tr>\n",
       "      <th>2<\/th>\n",
       "      <td>Team 3<\/td>\n",
       "      <td>93<\/td>\n",
       "      <td>1.162500<\/td>\n",
       "      <td>0.107527<\/td>\n",
       "      <td>0.474751<\/td>\n",
       "      <td>0.125000<\/td>\n",
       "    <\/tr>\n",
       "    <tr>\n",
       "      <th>4<\/th>\n",
       "      <td>Team 5<\/td>\n",
       "      <td>93<\/td>\n",
       "      <td>1.081395<\/td>\n",
       "      <td>0.086022<\/td>\n",
       "      <td>0.437726<\/td>\n",
       "      <td>0.093023<\/td>\n",
       "    <\/tr>\n",
       "    <tr>\n",
       "      <th>1<\/th>\n",
       "      <td>Team 2<\/td>\n",
       "      <td>93<\/td>\n",
       "      <td>1.081395<\/td>\n",
       "      <td>0.268817<\/td>\n",
       "      <td>0.572411<\/td>\n",
       "      <td>0.290698<\/td>\n",
       "    <\/tr>\n",
       "  <\/tbody>\n",
       "<\/table>\n",
       "<\/div>"
      ]
     },
     "metadata":{
      
     },
     "output_type":"display_data"
    }
   ],
   "metadata":{
    "datalore":{
     "node_id":"XEynlJ1uhlW95YYkT3lVT6",
     "type":"CODE",
     "hide_input_from_viewers":false,
     "hide_output_from_viewers":false
    }
   }
  },
  {
   "cell_type":"code",
   "source":[
    "df5 = df1.sort_values(by='TeamExp',ascending=False) # Top performing teams\n",
    "print('The Top Old Teams are shown in Table 2\\nTABLE 2')\n",
    "df5.sort_values(by='Age_of_team',ascending=False).head(5) "
   ],
   "execution_count":344,
   "outputs":[
    {
     "name":"stdout",
     "text":[
      "The Top Old Teams are shown in Table 2\n",
      "TABLE 2\n"
     ],
     "output_type":"stream"
    },
    {
     "data":{
      "text\/html":[
       "<div>\n",
       "<style scoped>\n",
       "    .dataframe tbody tr th:only-of-type {\n",
       "        vertical-align: middle;\n",
       "    }\n",
       "\n",
       "    .dataframe tbody tr th {\n",
       "        vertical-align: top;\n",
       "    }\n",
       "\n",
       "    .dataframe thead th {\n",
       "        text-align: right;\n",
       "    }\n",
       "<\/style>\n",
       "<table border=\"1\" class=\"dataframe\">\n",
       "  <thead>\n",
       "    <tr style=\"text-align: right;\">\n",
       "      <th><\/th>\n",
       "      <th>Team<\/th>\n",
       "      <th>Age_of_team<\/th>\n",
       "      <th>TeamExp<\/th>\n",
       "      <th>TeamPerformance<\/th>\n",
       "      <th>WinResult<\/th>\n",
       "      <th>Champions<\/th>\n",
       "    <\/tr>\n",
       "  <\/thead>\n",
       "  <tbody>\n",
       "    <tr>\n",
       "      <th>0<\/th>\n",
       "      <td>Team 1<\/td>\n",
       "      <td>93<\/td>\n",
       "      <td>1.081395<\/td>\n",
       "      <td>0.354839<\/td>\n",
       "      <td>0.596307<\/td>\n",
       "      <td>0.383721<\/td>\n",
       "    <\/tr>\n",
       "    <tr>\n",
       "      <th>4<\/th>\n",
       "      <td>Team 5<\/td>\n",
       "      <td>93<\/td>\n",
       "      <td>1.081395<\/td>\n",
       "      <td>0.086022<\/td>\n",
       "      <td>0.437726<\/td>\n",
       "      <td>0.093023<\/td>\n",
       "    <\/tr>\n",
       "    <tr>\n",
       "      <th>1<\/th>\n",
       "      <td>Team 2<\/td>\n",
       "      <td>93<\/td>\n",
       "      <td>1.081395<\/td>\n",
       "      <td>0.268817<\/td>\n",
       "      <td>0.572411<\/td>\n",
       "      <td>0.290698<\/td>\n",
       "    <\/tr>\n",
       "    <tr>\n",
       "      <th>53<\/th>\n",
       "      <td>Team 54<\/td>\n",
       "      <td>93<\/td>\n",
       "      <td>31.000000<\/td>\n",
       "      <td>0.000000<\/td>\n",
       "      <td>0.333333<\/td>\n",
       "      <td>0.000000<\/td>\n",
       "    <\/tr>\n",
       "    <tr>\n",
       "      <th>51<\/th>\n",
       "      <td>Team 52<\/td>\n",
       "      <td>93<\/td>\n",
       "      <td>23.250000<\/td>\n",
       "      <td>0.000000<\/td>\n",
       "      <td>0.291667<\/td>\n",
       "      <td>0.000000<\/td>\n",
       "    <\/tr>\n",
       "  <\/tbody>\n",
       "<\/table>\n",
       "<\/div>"
      ]
     },
     "metadata":{
      
     },
     "output_type":"display_data"
    }
   ],
   "metadata":{
    "datalore":{
     "node_id":"MTWjhb2f0jiQ3pEh41hwG6",
     "type":"CODE",
     "hide_input_from_viewers":false,
     "hide_output_from_viewers":false
    }
   }
  },
  {
   "cell_type":"code",
   "source":[
    "print('The Top Young Teams are shown in Table 1A\\nTABLE 1A')\n",
    "df4.sort_values(by='Age_of_team',ascending=True).head(5)"
   ],
   "execution_count":345,
   "outputs":[
    {
     "name":"stdout",
     "text":[
      "The Top Young Teams are shown in Table 1A\n",
      "TABLE 1A\n"
     ],
     "output_type":"stream"
    },
    {
     "data":{
      "text\/html":[
       "<div>\n",
       "<style scoped>\n",
       "    .dataframe tbody tr th:only-of-type {\n",
       "        vertical-align: middle;\n",
       "    }\n",
       "\n",
       "    .dataframe tbody tr th {\n",
       "        vertical-align: top;\n",
       "    }\n",
       "\n",
       "    .dataframe thead th {\n",
       "        text-align: right;\n",
       "    }\n",
       "<\/style>\n",
       "<table border=\"1\" class=\"dataframe\">\n",
       "  <thead>\n",
       "    <tr style=\"text-align: right;\">\n",
       "      <th><\/th>\n",
       "      <th>Team<\/th>\n",
       "      <th>Age_of_team<\/th>\n",
       "      <th>TeamExp<\/th>\n",
       "      <th>TeamPerformance<\/th>\n",
       "      <th>WinResult<\/th>\n",
       "      <th>Champions<\/th>\n",
       "    <\/tr>\n",
       "  <\/thead>\n",
       "  <tbody>\n",
       "    <tr>\n",
       "      <th>60<\/th>\n",
       "      <td>Team 61<\/td>\n",
       "      <td>5<\/td>\n",
       "      <td>5.000000<\/td>\n",
       "      <td>0.0<\/td>\n",
       "      <td>NaN<\/td>\n",
       "      <td>0.0<\/td>\n",
       "    <\/tr>\n",
       "    <tr>\n",
       "      <th>55<\/th>\n",
       "      <td>Team 56<\/td>\n",
       "      <td>6<\/td>\n",
       "      <td>6.000000<\/td>\n",
       "      <td>0.0<\/td>\n",
       "      <td>0.210526<\/td>\n",
       "      <td>0.0<\/td>\n",
       "    <\/tr>\n",
       "    <tr>\n",
       "      <th>43<\/th>\n",
       "      <td>Team 44<\/td>\n",
       "      <td>8<\/td>\n",
       "      <td>2.666667<\/td>\n",
       "      <td>0.0<\/td>\n",
       "      <td>0.307018<\/td>\n",
       "      <td>0.0<\/td>\n",
       "    <\/tr>\n",
       "    <tr>\n",
       "      <th>56<\/th>\n",
       "      <td>Team 57<\/td>\n",
       "      <td>13<\/td>\n",
       "      <td>13.000000<\/td>\n",
       "      <td>0.0<\/td>\n",
       "      <td>0.210526<\/td>\n",
       "      <td>0.0<\/td>\n",
       "    <\/tr>\n",
       "    <tr>\n",
       "      <th>36<\/th>\n",
       "      <td>Team 37<\/td>\n",
       "      <td>15<\/td>\n",
       "      <td>2.500000<\/td>\n",
       "      <td>0.0<\/td>\n",
       "      <td>0.271930<\/td>\n",
       "      <td>0.0<\/td>\n",
       "    <\/tr>\n",
       "  <\/tbody>\n",
       "<\/table>\n",
       "<\/div>"
      ]
     },
     "metadata":{
      
     },
     "output_type":"display_data"
    }
   ],
   "metadata":{
    "datalore":{
     "node_id":"ZQzi5prI5CRrwpCwGhJeK3",
     "type":"CODE",
     "hide_input_from_viewers":false,
     "hide_output_from_viewers":false
    }
   }
  },
  {
   "cell_type":"code",
   "source":[
    "print('The Top Young Teams are shown in Table 1B\\nTABLE 1B')\n",
    "df5.sort_values(by='Age_of_team',ascending=True).head(5)"
   ],
   "execution_count":346,
   "outputs":[
    {
     "name":"stdout",
     "text":[
      "The Top Young Teams are shown in Table 1B\n",
      "TABLE 1B\n"
     ],
     "output_type":"stream"
    },
    {
     "data":{
      "text\/html":[
       "<div>\n",
       "<style scoped>\n",
       "    .dataframe tbody tr th:only-of-type {\n",
       "        vertical-align: middle;\n",
       "    }\n",
       "\n",
       "    .dataframe tbody tr th {\n",
       "        vertical-align: top;\n",
       "    }\n",
       "\n",
       "    .dataframe thead th {\n",
       "        text-align: right;\n",
       "    }\n",
       "<\/style>\n",
       "<table border=\"1\" class=\"dataframe\">\n",
       "  <thead>\n",
       "    <tr style=\"text-align: right;\">\n",
       "      <th><\/th>\n",
       "      <th>Team<\/th>\n",
       "      <th>Age_of_team<\/th>\n",
       "      <th>TeamExp<\/th>\n",
       "      <th>TeamPerformance<\/th>\n",
       "      <th>WinResult<\/th>\n",
       "      <th>Champions<\/th>\n",
       "    <\/tr>\n",
       "  <\/thead>\n",
       "  <tbody>\n",
       "    <tr>\n",
       "      <th>60<\/th>\n",
       "      <td>Team 61<\/td>\n",
       "      <td>5<\/td>\n",
       "      <td>5.000000<\/td>\n",
       "      <td>0.0<\/td>\n",
       "      <td>NaN<\/td>\n",
       "      <td>0.0<\/td>\n",
       "    <\/tr>\n",
       "    <tr>\n",
       "      <th>55<\/th>\n",
       "      <td>Team 56<\/td>\n",
       "      <td>6<\/td>\n",
       "      <td>6.000000<\/td>\n",
       "      <td>0.0<\/td>\n",
       "      <td>0.210526<\/td>\n",
       "      <td>0.0<\/td>\n",
       "    <\/tr>\n",
       "    <tr>\n",
       "      <th>43<\/th>\n",
       "      <td>Team 44<\/td>\n",
       "      <td>8<\/td>\n",
       "      <td>2.666667<\/td>\n",
       "      <td>0.0<\/td>\n",
       "      <td>0.307018<\/td>\n",
       "      <td>0.0<\/td>\n",
       "    <\/tr>\n",
       "    <tr>\n",
       "      <th>56<\/th>\n",
       "      <td>Team 57<\/td>\n",
       "      <td>13<\/td>\n",
       "      <td>13.000000<\/td>\n",
       "      <td>0.0<\/td>\n",
       "      <td>0.210526<\/td>\n",
       "      <td>0.0<\/td>\n",
       "    <\/tr>\n",
       "    <tr>\n",
       "      <th>36<\/th>\n",
       "      <td>Team 37<\/td>\n",
       "      <td>15<\/td>\n",
       "      <td>2.500000<\/td>\n",
       "      <td>0.0<\/td>\n",
       "      <td>0.271930<\/td>\n",
       "      <td>0.0<\/td>\n",
       "    <\/tr>\n",
       "  <\/tbody>\n",
       "<\/table>\n",
       "<\/div>"
      ]
     },
     "metadata":{
      
     },
     "output_type":"display_data"
    }
   ],
   "metadata":{
    "datalore":{
     "node_id":"LRSrhglvsR8MgZDS3WCFCU",
     "type":"CODE",
     "hide_input_from_viewers":false,
     "hide_output_from_viewers":false
    }
   }
  },
  {
   "cell_type":"code",
   "source":[
    "dataset.quantile(0.75) - dataset.quantile(0.25)"
   ],
   "execution_count":347,
   "outputs":[
    {
     "data":{
      "text\/html":[
       
      ]
     },
     "metadata":{
      
     },
     "output_type":"display_data"
    }
   ],
   "metadata":{
    "datalore":{
     "node_id":"bt1sW4tGM1ec57Y2sqjYUl",
     "type":"CODE",
     "hide_input_from_viewers":false,
     "hide_output_from_viewers":false
    }
   }
  },
  {
   "cell_type":"code",
   "source":[
    "df=pd.DataFrame(dataset)\n",
    "df\n",
    "df_num = df.select_dtypes(include='number')\n",
    "df_num\n",
    "#print range\n",
    "print(df_num.max() - df_num.min())"
   ],
   "execution_count":348,
   "outputs":[
    {
     "name":"stdout",
     "text":[
      "Tournament             85\n",
      "TeamLaunch             88\n",
      "HighestPositionHeld    19\n",
      "dtype: int64\n"
     ],
     "output_type":"stream"
    }
   ],
   "metadata":{
    "datalore":{
     "node_id":"is1FUTO0qKQSgXJGliFl9I",
     "type":"CODE",
     "hide_input_from_viewers":false,
     "hide_output_from_viewers":false
    }
   }
  },
  {
   "cell_type":"code",
   "source":[
    "#print variance\n",
    "print(dataset.var());"
   ],
   "execution_count":349,
   "outputs":[
    {
     "name":"stdout",
     "text":[
      "Tournament             719.700000\n",
      "TeamLaunch             755.376503\n",
      "HighestPositionHeld     27.843169\n",
      "dtype: float64\n"
     ],
     "output_type":"stream"
    }
   ],
   "metadata":{
    "datalore":{
     "node_id":"OvgqVsAJVRqg0EouMRybJz",
     "type":"CODE",
     "hide_input_from_viewers":false,
     "hide_output_from_viewers":false
    }
   }
  },
  {
   "cell_type":"code",
   "source":[
    "#print standard deviation\n",
    "print(dataset.std())"
   ],
   "execution_count":350,
   "outputs":[
    {
     "name":"stdout",
     "text":[
      "Tournament             26.827225\n",
      "TeamLaunch             27.484114\n",
      "HighestPositionHeld     5.276663\n",
      "dtype: float64\n"
     ],
     "output_type":"stream"
    }
   ],
   "metadata":{
    "datalore":{
     "node_id":"1xX3BO4WKVFs1O8JA7QDtk",
     "type":"CODE",
     "hide_input_from_viewers":false,
     "hide_output_from_viewers":false
    }
   }
  },
  {
   "cell_type":"code",
   "source":[
    "#To check the covariance\n",
    "dataset.cov()"
   ],
   "execution_count":351,
   "outputs":[
    {
     "data":{
      "text\/html":[
       "<div>\n",
       "<style scoped>\n",
       "    .dataframe tbody tr th:only-of-type {\n",
       "        vertical-align: middle;\n",
       "    }\n",
       "\n",
       "    .dataframe tbody tr th {\n",
       "        vertical-align: top;\n",
       "    }\n",
       "\n",
       "    .dataframe thead th {\n",
       "        text-align: right;\n",
       "    }\n",
       "<\/style>\n",
       "<table border=\"1\" class=\"dataframe\">\n",
       "  <thead>\n",
       "    <tr style=\"text-align: right;\">\n",
       "      <th><\/th>\n",
       "      <th>Tournament<\/th>\n",
       "      <th>TeamLaunch<\/th>\n",
       "      <th>HighestPositionHeld<\/th>\n",
       "    <\/tr>\n",
       "  <\/thead>\n",
       "  <tbody>\n",
       "    <tr>\n",
       "      <th>Tournament<\/th>\n",
       "      <td>719.700000<\/td>\n",
       "      <td>-444.716667<\/td>\n",
       "      <td>-100.233333<\/td>\n",
       "    <\/tr>\n",
       "    <tr>\n",
       "      <th>TeamLaunch<\/th>\n",
       "      <td>-444.716667<\/td>\n",
       "      <td>755.376503<\/td>\n",
       "      <td>85.406831<\/td>\n",
       "    <\/tr>\n",
       "    <tr>\n",
       "      <th>HighestPositionHeld<\/th>\n",
       "      <td>-100.233333<\/td>\n",
       "      <td>85.406831<\/td>\n",
       "      <td>27.843169<\/td>\n",
       "    <\/tr>\n",
       "  <\/tbody>\n",
       "<\/table>\n",
       "<\/div>"
      ]
     },
     "metadata":{
      
     },
     "output_type":"display_data"
    }
   ],
   "metadata":{
    "datalore":{
     "node_id":"r1mdA9ogrSelqTR6bl0wgH",
     "type":"CODE",
     "hide_input_from_viewers":false,
     "hide_output_from_viewers":false
    }
   }
  },
  {
   "cell_type":"code",
   "source":[
    "import seaborn as sns\n",
    "sns.pairplot(dataset, kind=\"reg\") \n",
    "plt.show()"
   ],
   "execution_count":352,
   "outputs":[
    {
     "data":{
      "image\/png":"[encoded data removed]"
     },
     "metadata":{
      "image\/png":{
       
      }
     },
     "output_type":"display_data"
    }
   ],
   "metadata":{
    "datalore":{
     "node_id":"YtGpYXL7JSgPleyk7rbZJP",
     "type":"CODE",
     "hide_input_from_viewers":false,
     "hide_output_from_viewers":false
    }
   }
  },
  {
   "cell_type":"code",
   "source":[
    "#Cumulative Distribution\n",
    "fdataset = df.drop('Team',axis=1).head(1)\n",
    "sns.distplot(fdataset, hist_kws=dict(cumulative=True), kde_kws=dict(cumulative=True));"
   ],
   "execution_count":353,
   "outputs":[
    {
     "data":{
      "image\/png":"[encoded data removed]"
     },
     "metadata":{
      "image\/png":{
       
      }
     },
     "output_type":"display_data"
    }
   ],
   "metadata":{
    "datalore":{
     "node_id":"GY0KlgSGSQ53Zh3YNvB9TW",
     "type":"CODE",
     "hide_input_from_viewers":false,
     "hide_output_from_viewers":false
    }
   }
  },
  {
   "cell_type":"code",
   "source":[
    "#Creating Scatter Plot\n",
    "import seaborn as sns\n",
    "import pandas as pd\n",
    "dataset = pd.read_csv('DS+-+Part2+-+Basketball.csv')\n",
    "fdata=dataset.dropna()\n",
    "sns.pairplot(fdata)"
   ],
   "execution_count":354,
   "outputs":[
    {
     "data":{
      "text\/plain":[
       "<seaborn.axisgrid.PairGrid at 0x7f6ee12928e0>"
      ]
     },
     "metadata":{
      
     },
     "output_type":"display_data"
    },
    {
     "data":{
      "image\/png":"[encoded data removed]"
     },
     "metadata":{
      "image\/png":{
       
      }
     },
     "output_type":"display_data"
    }
   ],
   "metadata":{
    "datalore":{
     "node_id":"wiRxiSLMuQffK5tg9tk6SH",
     "type":"CODE",
     "hide_input_from_viewers":false,
     "hide_output_from_viewers":false
    }
   }
  },
  {
   "cell_type":"code",
   "source":[
    "sns.scatterplot(fdata['Tournament'],fdata['HighestPositionHeld'])"
   ],
   "execution_count":355,
   "outputs":[
    {
     "data":{
      "text\/plain":[
       "<AxesSubplot:xlabel='Tournament', ylabel='HighestPositionHeld'>"
      ]
     },
     "metadata":{
      
     },
     "output_type":"display_data"
    },
    {
     "data":{
      "image\/png":"[encoded data removed]"
     },
     "metadata":{
      "image\/png":{
       
      }
     },
     "output_type":"display_data"
    }
   ],
   "metadata":{
    "datalore":{
     "node_id":"80ptNAyeGby6a8GAJ3ugSz",
     "type":"CODE",
     "hide_input_from_viewers":false,
     "hide_output_from_viewers":false
    }
   }
  },
  {
   "cell_type":"code",
   "source":[
    "print(\"Skewness of 'Tournament': {}\\n\".format(dataset['Tournament'].skew().round(3)))\n",
    "\n",
    "print(\"Skewness of 'HighestPositionHeld': {}\\n\".format(dataset['HighestPositionHeld'].skew().round(3)))"
   ],
   "execution_count":356,
   "outputs":[
    {
     "name":"stdout",
     "text":[
      "Skewness of 'Tournament': 1.217\n",
      "\n",
      "Skewness of 'HighestPositionHeld': 0.818\n",
      "\n"
     ],
     "output_type":"stream"
    }
   ],
   "metadata":{
    "datalore":{
     "node_id":"iJmeXJcUOlOdvg9NAiahG3",
     "type":"CODE",
     "hide_input_from_viewers":false,
     "hide_output_from_viewers":false
    }
   }
  },
  {
   "cell_type":"markdown",
   "source":[
    "# **UNIVARIATE** ANALYSIS USING DATA VISUALIZATION TECHNIQUES"
   ],
   "attachments":{
    
   },
   "metadata":{
    "datalore":{
     "node_id":"401YevZT0DS6tGObxOAPkz",
     "type":"MD",
     "hide_input_from_viewers":false,
     "hide_output_from_viewers":false
    }
   }
  },
  {
   "cell_type":"code",
   "source":[
    "attributes = ['Tournament','Score','PlayedGames','WonGames','DrawnGames','LostGames','BasketScored','BasketGiven','TournamentChampion','Runner-up','TeamLaunch','HighestPositionHeld']\n",
    "plt.figure(figsize=(20,20))\n",
    "i = 1;\n",
    "for colm in df[attributes]:\n",
    "    plt.subplot(4,3,i);\n",
    "    sns.distplot(df[colm],kde=True);\n",
    "    i += 1"
   ],
   "execution_count":357,
   "outputs":[
    {
     "data":{
      "image\/png":"[encoded data removed]"
     },
     "metadata":{
      "image\/png":{
       
      }
     },
     "output_type":"display_data"
    }
   ],
   "metadata":{
    "datalore":{
     "node_id":"SxY7JQbW0iIARAF5cPTV2Q",
     "type":"CODE",
     "hide_input_from_viewers":false,
     "hide_output_from_viewers":false
    }
   }
  },
  {
   "cell_type":"code",
   "source":[
    "#Total no. of matches played by teams\n",
    "plt.figure(figsize=(50,30))\n",
    "plt.xlim(0,180)\n",
    "sns.barplot(df['Team'], df['Tournament']);"
   ],
   "execution_count":358,
   "outputs":[
    {
     "data":{
      "image\/png":"[encoded data removed]"
     },
     "metadata":{
      "image\/png":{
       
      }
     },
     "output_type":"display_data"
    }
   ],
   "metadata":{
    "datalore":{
     "node_id":"qdFeRwyAOwaQXbV9JIGZyv",
     "type":"CODE",
     "hide_input_from_viewers":false,
     "hide_output_from_viewers":false
    }
   }
  },
  {
   "cell_type":"markdown",
   "source":[
    "# MULTIVARIATE ANALYSIS USING DATA VISUALIZATION"
   ],
   "attachments":{
    
   },
   "metadata":{
    "datalore":{
     "node_id":"88G0466vK2HK2bX7G4rZ9Z",
     "type":"MD",
     "hide_input_from_viewers":false,
     "hide_output_from_viewers":false
    }
   }
  },
  {
   "cell_type":"code",
   "source":[
    "plt.figure(figsize=(50,50))\n",
    "sns.pairplot(df[attributes])"
   ],
   "execution_count":359,
   "outputs":[
    {
     "data":{
      "text\/plain":[
       "<seaborn.axisgrid.PairGrid at 0x7f6ee0b8ad00>"
      ]
     },
     "metadata":{
      
     },
     "output_type":"display_data"
    },
    {
     "data":{
      "text\/plain":[
       "<Figure size 3600x3600 with 0 Axes>"
      ]
     },
     "metadata":{
      
     },
     "output_type":"display_data"
    },
    {
     "data":{
      "image\/png":"[encoded data removed]"
     },
     "metadata":{
      "image\/png":{
       
      }
     },
     "output_type":"display_data"
    }
   ],
   "metadata":{
    "datalore":{
     "node_id":"gRKzgeK1dDkuvZfw2DnpbT",
     "type":"CODE",
     "hide_input_from_viewers":false,
     "hide_output_from_viewers":false
    }
   }
  },
  {
   "cell_type":"markdown",
   "source":[
    "PartB 3. Please include any improvements or suggestions to the association management on quality, quantity, variety, velocity, veracity etc. \n",
    "on the data points collected by the association to perform a better data analysis in future. At-least 1 suggestion for each point. [10 Marks]\n",
    "                                                                                                            \n",
    "# Ans Comment: After assessing the overall data,The improvements and suggestions to the association management with respect to quality, quantity, variety, velocity, veracity etc. on the data points gathered by the relation association is to perform a better data analysis with more improvements in future. The improvements shall be in regard to:\n",
    "\n",
    "# *  The teams which are already in contract with competitors.\n",
    "# *  The particular year for which a certain decision is to be found out.\n",
    "# *  The notable top players playing in the team.\n",
    "\n"
   ],
   "attachments":{
    
   },
   "metadata":{
    "datalore":{
     "node_id":"i61aRQ6sebtBVAgWIMb7GV",
     "type":"MD",
     "hide_input_from_viewers":false,
     "hide_output_from_viewers":false
    }
   }
  },
  {
   "cell_type":"markdown",
   "source":[
    "#                                                                 ****PART**- C**"
   ],
   "attachments":{
    
   },
   "metadata":{
    "datalore":{
     "node_id":"3uDptzQd999b2lNwBrI8U9",
     "type":"MD",
     "hide_input_from_viewers":false,
     "hide_output_from_viewers":false
    }
   }
  },
  {
   "cell_type":"markdown",
   "source":[
    "1. Read the CSV file."
   ],
   "attachments":{
    
   },
   "metadata":{
    "datalore":{
     "node_id":"qDf5Blzxv8z4vrwbRYoJsn",
     "type":"MD",
     "hide_input_from_viewers":false,
     "hide_output_from_viewers":false
    }
   }
  },
  {
   "cell_type":"code",
   "source":[
    "import pandas as pd\n",
    "data = pd.read_csv('DS+-+Part3+-+CompanyX_EU.csv')\n",
    "data.head()\n"
   ],
   "execution_count":360,
   "outputs":[
    {
     "data":{
      "text\/html":[
       "<div>\n",
       "<style scoped>\n",
       "    .dataframe tbody tr th:only-of-type {\n",
       "        vertical-align: middle;\n",
       "    }\n",
       "\n",
       "    .dataframe tbody tr th {\n",
       "        vertical-align: top;\n",
       "    }\n",
       "\n",
       "    .dataframe thead th {\n",
       "        text-align: right;\n",
       "    }\n",
       "<\/style>\n",
       "<table border=\"1\" class=\"dataframe\">\n",
       "  <thead>\n",
       "    <tr style=\"text-align: right;\">\n",
       "      <th><\/th>\n",
       "      <th>Startup<\/th>\n",
       "      <th>Product<\/th>\n",
       "      <th>Funding<\/th>\n",
       "      <th>Event<\/th>\n",
       "      <th>Result<\/th>\n",
       "      <th>OperatingState<\/th>\n",
       "    <\/tr>\n",
       "  <\/thead>\n",
       "  <tbody>\n",
       "    <tr>\n",
       "      <th>0<\/th>\n",
       "      <td>2600Hz<\/td>\n",
       "      <td>2600hz.com<\/td>\n",
       "      <td>NaN<\/td>\n",
       "      <td>Disrupt SF 2013<\/td>\n",
       "      <td>Contestant<\/td>\n",
       "      <td>Operating<\/td>\n",
       "    <\/tr>\n",
       "    <tr>\n",
       "      <th>1<\/th>\n",
       "      <td>3DLT<\/td>\n",
       "      <td>3dlt.com<\/td>\n",
       "      <td>$630K<\/td>\n",
       "      <td>Disrupt NYC 2013<\/td>\n",
       "      <td>Contestant<\/td>\n",
       "      <td>Closed<\/td>\n",
       "    <\/tr>\n",
       "    <tr>\n",
       "      <th>2<\/th>\n",
       "      <td>3DPrinterOS<\/td>\n",
       "      <td>3dprinteros.com<\/td>\n",
       "      <td>NaN<\/td>\n",
       "      <td>Disrupt SF 2016<\/td>\n",
       "      <td>Contestant<\/td>\n",
       "      <td>Operating<\/td>\n",
       "    <\/tr>\n",
       "    <tr>\n",
       "      <th>3<\/th>\n",
       "      <td>3Dprintler<\/td>\n",
       "      <td>3dprintler.com<\/td>\n",
       "      <td>$1M<\/td>\n",
       "      <td>Disrupt NY 2016<\/td>\n",
       "      <td>Audience choice<\/td>\n",
       "      <td>Operating<\/td>\n",
       "    <\/tr>\n",
       "    <tr>\n",
       "      <th>4<\/th>\n",
       "      <td>42 Technologies<\/td>\n",
       "      <td>42technologies.com<\/td>\n",
       "      <td>NaN<\/td>\n",
       "      <td>Disrupt NYC 2013<\/td>\n",
       "      <td>Contestant<\/td>\n",
       "      <td>Operating<\/td>\n",
       "    <\/tr>\n",
       "  <\/tbody>\n",
       "<\/table>\n",
       "<\/div>"
      ]
     },
     "metadata":{
      
     },
     "output_type":"display_data"
    }
   ],
   "metadata":{
    "datalore":{
     "node_id":"xqYXd0xdoiXmFP2gjaPUuN",
     "type":"CODE",
     "hide_input_from_viewers":false,
     "hide_output_from_viewers":false
    }
   }
  },
  {
   "cell_type":"code",
   "source":[
    "data.tail()"
   ],
   "execution_count":361,
   "outputs":[
    {
     "data":{
      "text\/html":[
       "<div>\n",
       "<style scoped>\n",
       "    .dataframe tbody tr th:only-of-type {\n",
       "        vertical-align: middle;\n",
       "    }\n",
       "\n",
       "    .dataframe tbody tr th {\n",
       "        vertical-align: top;\n",
       "    }\n",
       "\n",
       "    .dataframe thead th {\n",
       "        text-align: right;\n",
       "    }\n",
       "<\/style>\n",
       "<table border=\"1\" class=\"dataframe\">\n",
       "  <thead>\n",
       "    <tr style=\"text-align: right;\">\n",
       "      <th><\/th>\n",
       "      <th>Startup<\/th>\n",
       "      <th>Product<\/th>\n",
       "      <th>Funding<\/th>\n",
       "      <th>Event<\/th>\n",
       "      <th>Result<\/th>\n",
       "      <th>OperatingState<\/th>\n",
       "    <\/tr>\n",
       "  <\/thead>\n",
       "  <tbody>\n",
       "    <tr>\n",
       "      <th>657<\/th>\n",
       "      <td>Zivity<\/td>\n",
       "      <td>zivity.com<\/td>\n",
       "      <td>$8M<\/td>\n",
       "      <td>TC40 2007<\/td>\n",
       "      <td>Contestant<\/td>\n",
       "      <td>Operating<\/td>\n",
       "    <\/tr>\n",
       "    <tr>\n",
       "      <th>658<\/th>\n",
       "      <td>Zmorph<\/td>\n",
       "      <td>zmorph3d.com<\/td>\n",
       "      <td>$1M<\/td>\n",
       "      <td>-<\/td>\n",
       "      <td>Audience choice<\/td>\n",
       "      <td>Operating<\/td>\n",
       "    <\/tr>\n",
       "    <tr>\n",
       "      <th>659<\/th>\n",
       "      <td>Zocdoc<\/td>\n",
       "      <td>zocdoc.com<\/td>\n",
       "      <td>$223M<\/td>\n",
       "      <td>TC40 2007<\/td>\n",
       "      <td>Contestant<\/td>\n",
       "      <td>Operating<\/td>\n",
       "    <\/tr>\n",
       "    <tr>\n",
       "      <th>660<\/th>\n",
       "      <td>Zula<\/td>\n",
       "      <td>zulaapp.com<\/td>\n",
       "      <td>$3.4M<\/td>\n",
       "      <td>Disrupt SF 2013<\/td>\n",
       "      <td>Audience choice<\/td>\n",
       "      <td>Operating<\/td>\n",
       "    <\/tr>\n",
       "    <tr>\n",
       "      <th>661<\/th>\n",
       "      <td>Zumper<\/td>\n",
       "      <td>zumper.com<\/td>\n",
       "      <td>$31.5M<\/td>\n",
       "      <td>Disrupt SF 2012<\/td>\n",
       "      <td>Finalist<\/td>\n",
       "      <td>Operating<\/td>\n",
       "    <\/tr>\n",
       "  <\/tbody>\n",
       "<\/table>\n",
       "<\/div>"
      ]
     },
     "metadata":{
      
     },
     "output_type":"display_data"
    }
   ],
   "metadata":{
    "datalore":{
     "node_id":"JBL2TkvRP2LDAwYkTP1whC",
     "type":"CODE",
     "hide_input_from_viewers":false,
     "hide_output_from_viewers":false
    }
   }
  },
  {
   "cell_type":"code",
   "source":[
    "data.shape"
   ],
   "execution_count":362,
   "outputs":[
    {
     "data":{
      "text\/plain":[
       "(662, 6)"
      ]
     },
     "metadata":{
      
     },
     "output_type":"display_data"
    }
   ],
   "metadata":{
    "datalore":{
     "node_id":"jmQGJTfZPmxXRPv5eoLunE",
     "type":"CODE",
     "hide_input_from_viewers":false,
     "hide_output_from_viewers":false
    }
   }
  },
  {
   "cell_type":"code",
   "source":[
    "data.info()"
   ],
   "execution_count":363,
   "outputs":[
    {
     "name":"stdout",
     "text":[
      "<class 'pandas.core.frame.DataFrame'>\n",
      "RangeIndex: 662 entries, 0 to 661\n",
      "Data columns (total 6 columns):\n",
      " #   Column          Non-Null Count  Dtype \n",
      "---  ------          --------------  ----- \n",
      " 0   Startup         662 non-null    object\n",
      " 1   Product         656 non-null    object\n",
      " 2   Funding         448 non-null    object\n",
      " 3   Event           662 non-null    object\n",
      " 4   Result          662 non-null    object\n",
      " 5   OperatingState  662 non-null    object\n",
      "dtypes: object(6)\n",
      "memory usage: 31.2+ KB\n"
     ],
     "output_type":"stream"
    }
   ],
   "metadata":{
    "datalore":{
     "node_id":"oCe1N3kmcC2MFGnrfSMsK4",
     "type":"CODE",
     "hide_input_from_viewers":false,
     "hide_output_from_viewers":false
    }
   }
  },
  {
   "cell_type":"markdown",
   "source":[
    "2. Data Exploration: [1 Mark]\n",
    "A. Check the datatypes of each attribute."
   ],
   "attachments":{
    
   },
   "metadata":{
    "datalore":{
     "node_id":"AkEmkuwbiq7AdFtfp6k63F",
     "type":"MD",
     "hide_input_from_viewers":false,
     "hide_output_from_viewers":false
    }
   }
  },
  {
   "cell_type":"code",
   "source":[
    "# Creating the DataFrame\n",
    "df = pd.DataFrame(data)\n",
    "print(df)"
   ],
   "execution_count":364,
   "outputs":[
    {
     "name":"stdout",
     "text":[
      "             Startup             Product Funding             Event  \\\n",
      "0             2600Hz          2600hz.com     NaN   Disrupt SF 2013   \n",
      "1               3DLT            3dlt.com   $630K  Disrupt NYC 2013   \n",
      "2        3DPrinterOS     3dprinteros.com     NaN   Disrupt SF 2016   \n",
      "3         3Dprintler      3dprintler.com     $1M   Disrupt NY 2016   \n",
      "4    42 Technologies  42technologies.com     NaN  Disrupt NYC 2013   \n",
      "..               ...                 ...     ...               ...   \n",
      "657           Zivity          zivity.com     $8M         TC40 2007   \n",
      "658           Zmorph        zmorph3d.com     $1M                 -   \n",
      "659           Zocdoc          zocdoc.com   $223M         TC40 2007   \n",
      "660             Zula         zulaapp.com   $3.4M   Disrupt SF 2013   \n",
      "661           Zumper          zumper.com  $31.5M   Disrupt SF 2012   \n",
      "\n",
      "              Result OperatingState  \n",
      "0         Contestant      Operating  \n",
      "1         Contestant         Closed  \n",
      "2         Contestant      Operating  \n",
      "3    Audience choice      Operating  \n",
      "4         Contestant      Operating  \n",
      "..               ...            ...  \n",
      "657       Contestant      Operating  \n",
      "658  Audience choice      Operating  \n",
      "659       Contestant      Operating  \n",
      "660  Audience choice      Operating  \n",
      "661         Finalist      Operating  \n",
      "\n",
      "[662 rows x 6 columns]\n"
     ],
     "output_type":"stream"
    }
   ],
   "metadata":{
    "datalore":{
     "node_id":"n0he3IumDzqsLOJoxfEBvs",
     "type":"CODE",
     "hide_input_from_viewers":false,
     "hide_output_from_viewers":false
    }
   }
  },
  {
   "cell_type":"code",
   "source":[
    "datatypes = df.dtypes\n",
    "print(datatypes)"
   ],
   "execution_count":365,
   "outputs":[
    {
     "name":"stdout",
     "text":[
      "Startup           object\n",
      "Product           object\n",
      "Funding           object\n",
      "Event             object\n",
      "Result            object\n",
      "OperatingState    object\n",
      "dtype: object\n"
     ],
     "output_type":"stream"
    }
   ],
   "metadata":{
    "datalore":{
     "node_id":"6GW5cXexkNvXR9i33CY2mr",
     "type":"CODE",
     "hide_input_from_viewers":false,
     "hide_output_from_viewers":false
    }
   }
  },
  {
   "cell_type":"markdown",
   "source":[
    "B. Check for null values in the attributes."
   ],
   "attachments":{
    
   },
   "metadata":{
    "datalore":{
     "node_id":"fhExVOK3LUawLuwOWFiI8N",
     "type":"MD",
     "hide_input_from_viewers":false,
     "hide_output_from_viewers":false
    }
   }
  },
  {
   "cell_type":"code",
   "source":[
    "import pandas as pd\n",
    "df = pd.DataFrame(data)\n",
    "print(df.isnull().any())"
   ],
   "execution_count":366,
   "outputs":[
    {
     "name":"stdout",
     "text":[
      "Startup           False\n",
      "Product            True\n",
      "Funding            True\n",
      "Event             False\n",
      "Result            False\n",
      "OperatingState    False\n",
      "dtype: bool\n"
     ],
     "output_type":"stream"
    }
   ],
   "metadata":{
    "datalore":{
     "node_id":"V5x9guznMfj7K9u1xToWr4",
     "type":"CODE",
     "hide_input_from_viewers":false,
     "hide_output_from_viewers":false
    }
   }
  },
  {
   "cell_type":"markdown",
   "source":[
    "3. Data preprocessing & visualisation: [4 Marks]\n",
    "A. Drop the null values. [1 Mark]"
   ],
   "attachments":{
    
   },
   "metadata":{
    "datalore":{
     "node_id":"wc19rD7iAsEa26BjoyAK43",
     "type":"MD",
     "hide_input_from_viewers":false,
     "hide_output_from_viewers":false
    }
   }
  },
  {
   "cell_type":"code",
   "source":[
    "#Null Values are dropped\n",
    "cleandata = data.dropna()\n",
    "cleandata.isnull().any()"
   ],
   "execution_count":367,
   "outputs":[
    {
     "data":{
      "text\/html":[
       
      ]
     },
     "metadata":{
      
     },
     "output_type":"display_data"
    }
   ],
   "metadata":{
    "datalore":{
     "node_id":"hNfvuGrpx4LcmJ2DxMUd4N",
     "type":"CODE",
     "hide_input_from_viewers":false,
     "hide_output_from_viewers":false
    }
   }
  },
  {
   "cell_type":"markdown",
   "source":[
    "3.B. Convert the ‘Funding’ features to a numerical value."
   ],
   "attachments":{
    
   },
   "metadata":{
    "datalore":{
     "node_id":"VbEf6Tkxf8idH4XOGqmfbO",
     "type":"MD",
     "hide_input_from_viewers":false,
     "hide_output_from_viewers":false
    }
   }
  },
  {
   "cell_type":"code",
   "source":[
    "df1 = pd.DataFrame(cleandata)\n",
    "df1.loc[:,'Funds_in_million'] = df1['Funding'].apply(lambda x: float(x[1:-1])\/1000 if x[-1] == 'K' else (float(x[1:-1])*1000 if x[-1] == 'B' else float(x[1:-1])))\n",
    "datatypes = df1.dtypes\n",
    "print(datatypes)\n",
    "df1.head()"
   ],
   "execution_count":368,
   "outputs":[
    {
     "name":"stdout",
     "text":[
      "Startup              object\n",
      "Product              object\n",
      "Funding              object\n",
      "Event                object\n",
      "Result               object\n",
      "OperatingState       object\n",
      "Funds_in_million    float64\n",
      "dtype: object\n"
     ],
     "output_type":"stream"
    },
    {
     "data":{
      "text\/html":[
       "<div>\n",
       "<style scoped>\n",
       "    .dataframe tbody tr th:only-of-type {\n",
       "        vertical-align: middle;\n",
       "    }\n",
       "\n",
       "    .dataframe tbody tr th {\n",
       "        vertical-align: top;\n",
       "    }\n",
       "\n",
       "    .dataframe thead th {\n",
       "        text-align: right;\n",
       "    }\n",
       "<\/style>\n",
       "<table border=\"1\" class=\"dataframe\">\n",
       "  <thead>\n",
       "    <tr style=\"text-align: right;\">\n",
       "      <th><\/th>\n",
       "      <th>Startup<\/th>\n",
       "      <th>Product<\/th>\n",
       "      <th>Funding<\/th>\n",
       "      <th>Event<\/th>\n",
       "      <th>Result<\/th>\n",
       "      <th>OperatingState<\/th>\n",
       "      <th>Funds_in_million<\/th>\n",
       "    <\/tr>\n",
       "  <\/thead>\n",
       "  <tbody>\n",
       "    <tr>\n",
       "      <th>1<\/th>\n",
       "      <td>3DLT<\/td>\n",
       "      <td>3dlt.com<\/td>\n",
       "      <td>$630K<\/td>\n",
       "      <td>Disrupt NYC 2013<\/td>\n",
       "      <td>Contestant<\/td>\n",
       "      <td>Closed<\/td>\n",
       "      <td>0.63<\/td>\n",
       "    <\/tr>\n",
       "    <tr>\n",
       "      <th>3<\/th>\n",
       "      <td>3Dprintler<\/td>\n",
       "      <td>3dprintler.com<\/td>\n",
       "      <td>$1M<\/td>\n",
       "      <td>Disrupt NY 2016<\/td>\n",
       "      <td>Audience choice<\/td>\n",
       "      <td>Operating<\/td>\n",
       "      <td>1.00<\/td>\n",
       "    <\/tr>\n",
       "    <tr>\n",
       "      <th>5<\/th>\n",
       "      <td>5to1<\/td>\n",
       "      <td>5to1.com<\/td>\n",
       "      <td>$19.3M<\/td>\n",
       "      <td>TC50 2009<\/td>\n",
       "      <td>Contestant<\/td>\n",
       "      <td>Acquired<\/td>\n",
       "      <td>19.30<\/td>\n",
       "    <\/tr>\n",
       "    <tr>\n",
       "      <th>6<\/th>\n",
       "      <td>8 Securities<\/td>\n",
       "      <td>8securities.com<\/td>\n",
       "      <td>$29M<\/td>\n",
       "      <td>Disrupt Beijing 2011<\/td>\n",
       "      <td>Finalist<\/td>\n",
       "      <td>Operating<\/td>\n",
       "      <td>29.00<\/td>\n",
       "    <\/tr>\n",
       "    <tr>\n",
       "      <th>10<\/th>\n",
       "      <td>AdhereTech<\/td>\n",
       "      <td>adheretech.com<\/td>\n",
       "      <td>$1.8M<\/td>\n",
       "      <td>Hardware Battlefield 2014<\/td>\n",
       "      <td>Contestant<\/td>\n",
       "      <td>Operating<\/td>\n",
       "      <td>1.80<\/td>\n",
       "    <\/tr>\n",
       "  <\/tbody>\n",
       "<\/table>\n",
       "<\/div>"
      ]
     },
     "metadata":{
      
     },
     "output_type":"display_data"
    }
   ],
   "metadata":{
    "datalore":{
     "node_id":"VHpAaPeYJcnyF4aURLpWaz",
     "type":"CODE",
     "hide_input_from_viewers":false,
     "hide_output_from_viewers":false
    }
   }
  },
  {
   "cell_type":"markdown",
   "source":[
    "3. C. Plot box plot for funds in million. [1 Mark]"
   ],
   "attachments":{
    
   },
   "metadata":{
    "datalore":{
     "node_id":"rYocJ0nmqoEbCa14iJPovF",
     "type":"MD",
     "hide_input_from_viewers":false,
     "hide_output_from_viewers":false
    }
   }
  },
  {
   "cell_type":"code",
   "source":[
    "plt.figure(figsize=(40,20))\n",
    "sns.boxplot(data=cleandata,x='Funds_in_million');\n",
    "plt.semilogx()\n",
    "plt.show()"
   ],
   "execution_count":369,
   "outputs":[
    {
     "data":{
      "image\/png":"[encoded data removed]"
     },
     "metadata":{
      "image\/png":{
       
      }
     },
     "output_type":"display_data"
    }
   ],
   "metadata":{
    "datalore":{
     "node_id":"0F5q72bOrzqqdPFn8wR1KI",
     "type":"CODE",
     "hide_input_from_viewers":false,
     "hide_output_from_viewers":false
    }
   }
  },
  {
   "cell_type":"markdown",
   "source":[
    "# **C**.3.D. Check the number of outliers greater than the upper fence. [1 Mark]"
   ],
   "attachments":{
    
   },
   "metadata":{
    "datalore":{
     "node_id":"8lYJocWS3QM9AprDv6jsxZ",
     "type":"MD",
     "hide_input_from_viewers":false,
     "hide_output_from_viewers":false
    }
   }
  },
  {
   "cell_type":"code",
   "source":[
    "funds = cleandata['Funds_in_million']\n",
    "funds\n",
    "Q1,Q3 = np.percentile(funds,[25,75])\n",
    "IQR = Q3 - Q1; \n",
    "UOUT=cleandata[cleandata['Funds_in_million']>(Q3 + 1.5 * IQR)]\n",
    "print(\"Given below is the no. of outliers greater than the upper fence: \")\n",
    "UOUT"
   ],
   "execution_count":370,
   "outputs":[
    {
     "name":"stdout",
     "text":[
      "Given below is the no. of outliers greater than the upper fence: \n"
     ],
     "output_type":"stream"
    },
    {
     "data":{
      "text\/html":[
       "<div>\n",
       "<style scoped>\n",
       "    .dataframe tbody tr th:only-of-type {\n",
       "        vertical-align: middle;\n",
       "    }\n",
       "\n",
       "    .dataframe tbody tr th {\n",
       "        vertical-align: top;\n",
       "    }\n",
       "\n",
       "    .dataframe thead th {\n",
       "        text-align: right;\n",
       "    }\n",
       "<\/style>\n",
       "<table border=\"1\" class=\"dataframe\">\n",
       "  <thead>\n",
       "    <tr style=\"text-align: right;\">\n",
       "      <th><\/th>\n",
       "      <th>Startup<\/th>\n",
       "      <th>Product<\/th>\n",
       "      <th>Funding<\/th>\n",
       "      <th>Event<\/th>\n",
       "      <th>Result<\/th>\n",
       "      <th>OperatingState<\/th>\n",
       "      <th>Funds_in_million<\/th>\n",
       "    <\/tr>\n",
       "  <\/thead>\n",
       "  <tbody>\n",
       "    <tr>\n",
       "      <th>6<\/th>\n",
       "      <td>8 Securities<\/td>\n",
       "      <td>8securities.com<\/td>\n",
       "      <td>$29M<\/td>\n",
       "      <td>Disrupt Beijing 2011<\/td>\n",
       "      <td>Finalist<\/td>\n",
       "      <td>Operating<\/td>\n",
       "      <td>29.0<\/td>\n",
       "    <\/tr>\n",
       "    <tr>\n",
       "      <th>31<\/th>\n",
       "      <td>Anyclip<\/td>\n",
       "      <td>anyclip.com<\/td>\n",
       "      <td>$24M<\/td>\n",
       "      <td>TC50 2009<\/td>\n",
       "      <td>Finalist<\/td>\n",
       "      <td>Operating<\/td>\n",
       "      <td>24.0<\/td>\n",
       "    <\/tr>\n",
       "    <tr>\n",
       "      <th>40<\/th>\n",
       "      <td>Artsy<\/td>\n",
       "      <td>artsy.net<\/td>\n",
       "      <td>$50.9M<\/td>\n",
       "      <td>Disrupt NYC 2010<\/td>\n",
       "      <td>Contestant<\/td>\n",
       "      <td>Operating<\/td>\n",
       "      <td>50.9<\/td>\n",
       "    <\/tr>\n",
       "    <tr>\n",
       "      <th>49<\/th>\n",
       "      <td>Badgeville<\/td>\n",
       "      <td>badgeville.com<\/td>\n",
       "      <td>$40M<\/td>\n",
       "      <td>Disrupt SF 2010<\/td>\n",
       "      <td>Finalist<\/td>\n",
       "      <td>Acquired<\/td>\n",
       "      <td>40.0<\/td>\n",
       "    <\/tr>\n",
       "    <tr>\n",
       "      <th>56<\/th>\n",
       "      <td>Betterment<\/td>\n",
       "      <td>betterment.com<\/td>\n",
       "      <td>$205M<\/td>\n",
       "      <td>Disrupt NYC 2010<\/td>\n",
       "      <td>Finalist<\/td>\n",
       "      <td>Operating<\/td>\n",
       "      <td>205.0<\/td>\n",
       "    <\/tr>\n",
       "    <tr>\n",
       "      <th>108<\/th>\n",
       "      <td>Clickable<\/td>\n",
       "      <td>clickable.com<\/td>\n",
       "      <td>$32.5M<\/td>\n",
       "      <td>TC40 2007<\/td>\n",
       "      <td>Finalist<\/td>\n",
       "      <td>Acquired<\/td>\n",
       "      <td>32.5<\/td>\n",
       "    <\/tr>\n",
       "    <tr>\n",
       "      <th>113<\/th>\n",
       "      <td>Cloudflare<\/td>\n",
       "      <td>cloudflare.com<\/td>\n",
       "      <td>$182.1M<\/td>\n",
       "      <td>Disrupt SF 2010<\/td>\n",
       "      <td>Runner up<\/td>\n",
       "      <td>Operating<\/td>\n",
       "      <td>182.1<\/td>\n",
       "    <\/tr>\n",
       "    <tr>\n",
       "      <th>128<\/th>\n",
       "      <td>Credit Sesame<\/td>\n",
       "      <td>creditsesame.com<\/td>\n",
       "      <td>$35.4M<\/td>\n",
       "      <td>Disrupt SF 2010<\/td>\n",
       "      <td>Contestant<\/td>\n",
       "      <td>Operating<\/td>\n",
       "      <td>35.4<\/td>\n",
       "    <\/tr>\n",
       "    <tr>\n",
       "      <th>130<\/th>\n",
       "      <td>CrowdFlower Inc.<\/td>\n",
       "      <td>crowdflower.com<\/td>\n",
       "      <td>$38M<\/td>\n",
       "      <td>TC50 2009<\/td>\n",
       "      <td>Contestant<\/td>\n",
       "      <td>Operating<\/td>\n",
       "      <td>38.0<\/td>\n",
       "    <\/tr>\n",
       "    <tr>\n",
       "      <th>132<\/th>\n",
       "      <td>Cubic Telecom<\/td>\n",
       "      <td>cubictelecom.com<\/td>\n",
       "      <td>$37.1M<\/td>\n",
       "      <td>TC40 2007<\/td>\n",
       "      <td>Contestant<\/td>\n",
       "      <td>Operating<\/td>\n",
       "      <td>37.1<\/td>\n",
       "    <\/tr>\n",
       "    <tr>\n",
       "      <th>138<\/th>\n",
       "      <td>DataSift<\/td>\n",
       "      <td>datasift.com<\/td>\n",
       "      <td>$72M<\/td>\n",
       "      <td>Disrupt SF 2010<\/td>\n",
       "      <td>Finalist<\/td>\n",
       "      <td>Operating<\/td>\n",
       "      <td>72.0<\/td>\n",
       "    <\/tr>\n",
       "    <tr>\n",
       "      <th>139<\/th>\n",
       "      <td>DataXu<\/td>\n",
       "      <td>dataxu.com<\/td>\n",
       "      <td>$64M<\/td>\n",
       "      <td>TC50 2009<\/td>\n",
       "      <td>Contestant<\/td>\n",
       "      <td>Operating<\/td>\n",
       "      <td>64.0<\/td>\n",
       "    <\/tr>\n",
       "    <tr>\n",
       "      <th>154<\/th>\n",
       "      <td>Dropbox<\/td>\n",
       "      <td>dropbox.com<\/td>\n",
       "      <td>$1.7B<\/td>\n",
       "      <td>TC50 2008<\/td>\n",
       "      <td>Contestant<\/td>\n",
       "      <td>Operating<\/td>\n",
       "      <td>1700.0<\/td>\n",
       "    <\/tr>\n",
       "    <tr>\n",
       "      <th>166<\/th>\n",
       "      <td>Enigma<\/td>\n",
       "      <td>enigma.io<\/td>\n",
       "      <td>$34.6M<\/td>\n",
       "      <td>Disrupt NYC 2013<\/td>\n",
       "      <td>Winner<\/td>\n",
       "      <td>Operating<\/td>\n",
       "      <td>34.6<\/td>\n",
       "    <\/tr>\n",
       "    <tr>\n",
       "      <th>172<\/th>\n",
       "      <td>EverythingMe<\/td>\n",
       "      <td>everything.me<\/td>\n",
       "      <td>$35.5M<\/td>\n",
       "      <td>Disrupt NYC 2011<\/td>\n",
       "      <td>Contestant<\/td>\n",
       "      <td>Closed<\/td>\n",
       "      <td>35.5<\/td>\n",
       "    <\/tr>\n",
       "    <tr>\n",
       "      <th>179<\/th>\n",
       "      <td>Famo.us<\/td>\n",
       "      <td>famo.us<\/td>\n",
       "      <td>$30.1M<\/td>\n",
       "      <td>Disrupt SF 2012<\/td>\n",
       "      <td>Contestant<\/td>\n",
       "      <td>Operating<\/td>\n",
       "      <td>30.1<\/td>\n",
       "    <\/tr>\n",
       "    <tr>\n",
       "      <th>180<\/th>\n",
       "      <td>Farmigo<\/td>\n",
       "      <td>farmigo.com<\/td>\n",
       "      <td>$26M<\/td>\n",
       "      <td>Disrupt SF 2011<\/td>\n",
       "      <td>Finalist<\/td>\n",
       "      <td>Operating<\/td>\n",
       "      <td>26.0<\/td>\n",
       "    <\/tr>\n",
       "    <tr>\n",
       "      <th>188<\/th>\n",
       "      <td>Fitbit<\/td>\n",
       "      <td>fitbit.com<\/td>\n",
       "      <td>$66M<\/td>\n",
       "      <td>TC50 2008<\/td>\n",
       "      <td>Finalist<\/td>\n",
       "      <td>Ipo<\/td>\n",
       "      <td>66.0<\/td>\n",
       "    <\/tr>\n",
       "    <tr>\n",
       "      <th>191<\/th>\n",
       "      <td>Flock<\/td>\n",
       "      <td>flock.com<\/td>\n",
       "      <td>$28.3M<\/td>\n",
       "      <td>TC40 2007<\/td>\n",
       "      <td>Contestant<\/td>\n",
       "      <td>Acquired<\/td>\n",
       "      <td>28.3<\/td>\n",
       "    <\/tr>\n",
       "    <tr>\n",
       "      <th>209<\/th>\n",
       "      <td>Getaround<\/td>\n",
       "      <td>getaround.com<\/td>\n",
       "      <td>$103M<\/td>\n",
       "      <td>Disrupt NYC 2011<\/td>\n",
       "      <td>Winner<\/td>\n",
       "      <td>Operating<\/td>\n",
       "      <td>103.0<\/td>\n",
       "    <\/tr>\n",
       "    <tr>\n",
       "      <th>213<\/th>\n",
       "      <td>Gild<\/td>\n",
       "      <td>gild.com<\/td>\n",
       "      <td>$25.9M<\/td>\n",
       "      <td>Disrupt SF 2010<\/td>\n",
       "      <td>Contestant<\/td>\n",
       "      <td>Acquired<\/td>\n",
       "      <td>25.9<\/td>\n",
       "    <\/tr>\n",
       "    <tr>\n",
       "      <th>215<\/th>\n",
       "      <td>Glide<\/td>\n",
       "      <td>glide.me<\/td>\n",
       "      <td>$36.5M<\/td>\n",
       "      <td>Disrupt NYC 2013<\/td>\n",
       "      <td>Audience choice<\/td>\n",
       "      <td>Operating<\/td>\n",
       "      <td>36.5<\/td>\n",
       "    <\/tr>\n",
       "    <tr>\n",
       "      <th>225<\/th>\n",
       "      <td>Grockit<\/td>\n",
       "      <td>grockit.com<\/td>\n",
       "      <td>$44.7M<\/td>\n",
       "      <td>TC50 2008<\/td>\n",
       "      <td>Finalist<\/td>\n",
       "      <td>Acquired<\/td>\n",
       "      <td>44.7<\/td>\n",
       "    <\/tr>\n",
       "    <tr>\n",
       "      <th>231<\/th>\n",
       "      <td>HackerRank<\/td>\n",
       "      <td>hackerrank.com<\/td>\n",
       "      <td>$24.2M<\/td>\n",
       "      <td>Disrupt SF 2012<\/td>\n",
       "      <td>Contestant<\/td>\n",
       "      <td>Operating<\/td>\n",
       "      <td>24.2<\/td>\n",
       "    <\/tr>\n",
       "    <tr>\n",
       "      <th>271<\/th>\n",
       "      <td>Ionic Security<\/td>\n",
       "      <td>ionicsecurity.com<\/td>\n",
       "      <td>$122.4M<\/td>\n",
       "      <td>Disrupt SF 2012<\/td>\n",
       "      <td>Contestant<\/td>\n",
       "      <td>Operating<\/td>\n",
       "      <td>122.4<\/td>\n",
       "    <\/tr>\n",
       "    <tr>\n",
       "      <th>276<\/th>\n",
       "      <td>IZEA<\/td>\n",
       "      <td>izea.com<\/td>\n",
       "      <td>$34.9M<\/td>\n",
       "      <td>Disrupt NYC 2010<\/td>\n",
       "      <td>Contestant<\/td>\n",
       "      <td>Ipo<\/td>\n",
       "      <td>34.9<\/td>\n",
       "    <\/tr>\n",
       "    <tr>\n",
       "      <th>279<\/th>\n",
       "      <td>Jiff<\/td>\n",
       "      <td>jiff.com<\/td>\n",
       "      <td>$67.8M<\/td>\n",
       "      <td>Disrupt SF 2011<\/td>\n",
       "      <td>Contestant<\/td>\n",
       "      <td>Acquired<\/td>\n",
       "      <td>67.8<\/td>\n",
       "    <\/tr>\n",
       "    <tr>\n",
       "      <th>282<\/th>\n",
       "      <td>Kaltura<\/td>\n",
       "      <td>kaltura.com<\/td>\n",
       "      <td>$166.1M<\/td>\n",
       "      <td>TC40 2007<\/td>\n",
       "      <td>Audience choice<\/td>\n",
       "      <td>Operating<\/td>\n",
       "      <td>166.1<\/td>\n",
       "    <\/tr>\n",
       "    <tr>\n",
       "      <th>302<\/th>\n",
       "      <td>Layer<\/td>\n",
       "      <td>layer.com<\/td>\n",
       "      <td>$42.1M<\/td>\n",
       "      <td>Disrupt SF 2013<\/td>\n",
       "      <td>Winner<\/td>\n",
       "      <td>Operating<\/td>\n",
       "      <td>42.1<\/td>\n",
       "    <\/tr>\n",
       "    <tr>\n",
       "      <th>305<\/th>\n",
       "      <td>LearnVest<\/td>\n",
       "      <td>learnvest.com<\/td>\n",
       "      <td>$69M<\/td>\n",
       "      <td>TC50 2009<\/td>\n",
       "      <td>Contestant<\/td>\n",
       "      <td>Acquired<\/td>\n",
       "      <td>69.0<\/td>\n",
       "    <\/tr>\n",
       "    <tr>\n",
       "      <th>313<\/th>\n",
       "      <td>LiveIntent<\/td>\n",
       "      <td>liveintent.com<\/td>\n",
       "      <td>$65.1M<\/td>\n",
       "      <td>Disrupt NYC 2010<\/td>\n",
       "      <td>Audience choice<\/td>\n",
       "      <td>Operating<\/td>\n",
       "      <td>65.1<\/td>\n",
       "    <\/tr>\n",
       "    <tr>\n",
       "      <th>325<\/th>\n",
       "      <td>Lystable<\/td>\n",
       "      <td>lystable.com<\/td>\n",
       "      <td>$25.1M<\/td>\n",
       "      <td>Disrupt London 2015<\/td>\n",
       "      <td>Finalist<\/td>\n",
       "      <td>Operating<\/td>\n",
       "      <td>25.1<\/td>\n",
       "    <\/tr>\n",
       "    <tr>\n",
       "      <th>346<\/th>\n",
       "      <td>Mint<\/td>\n",
       "      <td>mint.com<\/td>\n",
       "      <td>$31.8M<\/td>\n",
       "      <td>TC40 2007<\/td>\n",
       "      <td>Winner<\/td>\n",
       "      <td>Acquired<\/td>\n",
       "      <td>31.8<\/td>\n",
       "    <\/tr>\n",
       "    <tr>\n",
       "      <th>389<\/th>\n",
       "      <td>OrderWithMe<\/td>\n",
       "      <td>orderwithme.com<\/td>\n",
       "      <td>$37M<\/td>\n",
       "      <td>Disrupt Beijing 2011<\/td>\n",
       "      <td>Winner<\/td>\n",
       "      <td>Operating<\/td>\n",
       "      <td>37.0<\/td>\n",
       "    <\/tr>\n",
       "    <tr>\n",
       "      <th>393<\/th>\n",
       "      <td>Osmo<\/td>\n",
       "      <td>playosmo.com<\/td>\n",
       "      <td>$38.5M<\/td>\n",
       "      <td>Disrupt SF 2013<\/td>\n",
       "      <td>Contestant<\/td>\n",
       "      <td>Operating<\/td>\n",
       "      <td>38.5<\/td>\n",
       "    <\/tr>\n",
       "    <tr>\n",
       "      <th>394<\/th>\n",
       "      <td>Ossia<\/td>\n",
       "      <td>ossia.com<\/td>\n",
       "      <td>$25.5M<\/td>\n",
       "      <td>Disrupt SF 2013<\/td>\n",
       "      <td>Runner up<\/td>\n",
       "      <td>Operating<\/td>\n",
       "      <td>25.5<\/td>\n",
       "    <\/tr>\n",
       "    <tr>\n",
       "      <th>398<\/th>\n",
       "      <td>Owlet Baby Care<\/td>\n",
       "      <td>owletcare.com<\/td>\n",
       "      <td>$24M<\/td>\n",
       "      <td>Hardware Battlefield 2014<\/td>\n",
       "      <td>Runner up<\/td>\n",
       "      <td>Operating<\/td>\n",
       "      <td>24.0<\/td>\n",
       "    <\/tr>\n",
       "    <tr>\n",
       "      <th>427<\/th>\n",
       "      <td>Postmates<\/td>\n",
       "      <td>postmates.com<\/td>\n",
       "      <td>$278M<\/td>\n",
       "      <td>Disrupt SF 2011<\/td>\n",
       "      <td>Contestant<\/td>\n",
       "      <td>Operating<\/td>\n",
       "      <td>278.0<\/td>\n",
       "    <\/tr>\n",
       "    <tr>\n",
       "      <th>432<\/th>\n",
       "      <td>Prism Skylabs<\/td>\n",
       "      <td>prism.com<\/td>\n",
       "      <td>$24M<\/td>\n",
       "      <td>Disrupt SF 2011<\/td>\n",
       "      <td>Runner up<\/td>\n",
       "      <td>Operating<\/td>\n",
       "      <td>24.0<\/td>\n",
       "    <\/tr>\n",
       "    <tr>\n",
       "      <th>435<\/th>\n",
       "      <td>PubMatic<\/td>\n",
       "      <td>pubmatic.com<\/td>\n",
       "      <td>$63M<\/td>\n",
       "      <td>TC40 2007<\/td>\n",
       "      <td>Contestant<\/td>\n",
       "      <td>Operating<\/td>\n",
       "      <td>63.0<\/td>\n",
       "    <\/tr>\n",
       "    <tr>\n",
       "      <th>460<\/th>\n",
       "      <td>Roadie<\/td>\n",
       "      <td>roadie.com<\/td>\n",
       "      <td>$25M<\/td>\n",
       "      <td>Disrupt NYC 2014<\/td>\n",
       "      <td>Audience choice<\/td>\n",
       "      <td>Operating<\/td>\n",
       "      <td>25.0<\/td>\n",
       "    <\/tr>\n",
       "    <tr>\n",
       "      <th>471<\/th>\n",
       "      <td>SeatGeek<\/td>\n",
       "      <td>seatgeek.com<\/td>\n",
       "      <td>$160M<\/td>\n",
       "      <td>TC50 2009<\/td>\n",
       "      <td>Contestant<\/td>\n",
       "      <td>Operating<\/td>\n",
       "      <td>160.0<\/td>\n",
       "    <\/tr>\n",
       "    <tr>\n",
       "      <th>546<\/th>\n",
       "      <td>StyleSeat<\/td>\n",
       "      <td>styleseat.com<\/td>\n",
       "      <td>$40M<\/td>\n",
       "      <td>Disrupt NYC 2011<\/td>\n",
       "      <td>Contestant<\/td>\n",
       "      <td>Operating<\/td>\n",
       "      <td>40.0<\/td>\n",
       "    <\/tr>\n",
       "    <tr>\n",
       "      <th>555<\/th>\n",
       "      <td>Symphony Commerce<\/td>\n",
       "      <td>symphonycommerce.com<\/td>\n",
       "      <td>$47.4M<\/td>\n",
       "      <td>Disrupt NYC 2011<\/td>\n",
       "      <td>Contestant<\/td>\n",
       "      <td>Operating<\/td>\n",
       "      <td>47.4<\/td>\n",
       "    <\/tr>\n",
       "    <tr>\n",
       "      <th>560<\/th>\n",
       "      <td>Talkdesk<\/td>\n",
       "      <td>talkdesk.com<\/td>\n",
       "      <td>$24.5M<\/td>\n",
       "      <td>Disrupt NYC 2012<\/td>\n",
       "      <td>Contestant<\/td>\n",
       "      <td>Operating<\/td>\n",
       "      <td>24.5<\/td>\n",
       "    <\/tr>\n",
       "    <tr>\n",
       "      <th>581<\/th>\n",
       "      <td>TouchPal<\/td>\n",
       "      <td>touchpal.com<\/td>\n",
       "      <td>$25M<\/td>\n",
       "      <td>Disrupt Beijing 2011<\/td>\n",
       "      <td>Finalist<\/td>\n",
       "      <td>Operating<\/td>\n",
       "      <td>25.0<\/td>\n",
       "    <\/tr>\n",
       "    <tr>\n",
       "      <th>593<\/th>\n",
       "      <td>TrueCar<\/td>\n",
       "      <td>truecar.com<\/td>\n",
       "      <td>$332.4M<\/td>\n",
       "      <td>TC50 2008<\/td>\n",
       "      <td>Contestant<\/td>\n",
       "      <td>Ipo<\/td>\n",
       "      <td>332.4<\/td>\n",
       "    <\/tr>\n",
       "    <tr>\n",
       "      <th>598<\/th>\n",
       "      <td>UberConference<\/td>\n",
       "      <td>uberconference.com<\/td>\n",
       "      <td>$35M<\/td>\n",
       "      <td>Disrupt NYC 2012<\/td>\n",
       "      <td>Winner<\/td>\n",
       "      <td>Operating<\/td>\n",
       "      <td>35.0<\/td>\n",
       "    <\/tr>\n",
       "    <tr>\n",
       "      <th>606<\/th>\n",
       "      <td>Upwork<\/td>\n",
       "      <td>upwork.com<\/td>\n",
       "      <td>$168.8M<\/td>\n",
       "      <td>TC50 2009<\/td>\n",
       "      <td>Audience choice<\/td>\n",
       "      <td>Operating<\/td>\n",
       "      <td>168.8<\/td>\n",
       "    <\/tr>\n",
       "    <tr>\n",
       "      <th>615<\/th>\n",
       "      <td>VideoSurf<\/td>\n",
       "      <td>videosurf.com<\/td>\n",
       "      <td>$28M<\/td>\n",
       "      <td>TC50 2008<\/td>\n",
       "      <td>Contestant<\/td>\n",
       "      <td>Acquired<\/td>\n",
       "      <td>28.0<\/td>\n",
       "    <\/tr>\n",
       "    <tr>\n",
       "      <th>625<\/th>\n",
       "      <td>Voxy<\/td>\n",
       "      <td>voxy.com<\/td>\n",
       "      <td>$30.8M<\/td>\n",
       "      <td>Disrupt SF 2010<\/td>\n",
       "      <td>Contestant<\/td>\n",
       "      <td>Operating<\/td>\n",
       "      <td>30.8<\/td>\n",
       "    <\/tr>\n",
       "    <tr>\n",
       "      <th>643<\/th>\n",
       "      <td>Xobni<\/td>\n",
       "      <td>yahoo.com<\/td>\n",
       "      <td>$41.8M<\/td>\n",
       "      <td>TC40 2007<\/td>\n",
       "      <td>Contestant<\/td>\n",
       "      <td>Acquired<\/td>\n",
       "      <td>41.8<\/td>\n",
       "    <\/tr>\n",
       "    <tr>\n",
       "      <th>644<\/th>\n",
       "      <td>Yammer<\/td>\n",
       "      <td>yammer.com<\/td>\n",
       "      <td>$142M<\/td>\n",
       "      <td>TC50 2008<\/td>\n",
       "      <td>Winner<\/td>\n",
       "      <td>Acquired<\/td>\n",
       "      <td>142.0<\/td>\n",
       "    <\/tr>\n",
       "    <tr>\n",
       "      <th>647<\/th>\n",
       "      <td>Yext<\/td>\n",
       "      <td>yext.com<\/td>\n",
       "      <td>$117.8M<\/td>\n",
       "      <td>TC50 2009<\/td>\n",
       "      <td>Contestant<\/td>\n",
       "      <td>Ipo<\/td>\n",
       "      <td>117.8<\/td>\n",
       "    <\/tr>\n",
       "    <tr>\n",
       "      <th>649<\/th>\n",
       "      <td>YouNow<\/td>\n",
       "      <td>younow.com<\/td>\n",
       "      <td>$26M<\/td>\n",
       "      <td>Disrupt SF 2011<\/td>\n",
       "      <td>Contestant<\/td>\n",
       "      <td>Operating<\/td>\n",
       "      <td>26.0<\/td>\n",
       "    <\/tr>\n",
       "    <tr>\n",
       "      <th>650<\/th>\n",
       "      <td>YourMechanic<\/td>\n",
       "      <td>yourmechanic.com<\/td>\n",
       "      <td>$28M<\/td>\n",
       "      <td>Disrupt SF 2012<\/td>\n",
       "      <td>Winner<\/td>\n",
       "      <td>Operating<\/td>\n",
       "      <td>28.0<\/td>\n",
       "    <\/tr>\n",
       "    <tr>\n",
       "      <th>654<\/th>\n",
       "      <td>ZEFR<\/td>\n",
       "      <td>zefr.com<\/td>\n",
       "      <td>$62.1M<\/td>\n",
       "      <td>Disrupt NYC 2010<\/td>\n",
       "      <td>Contestant<\/td>\n",
       "      <td>Operating<\/td>\n",
       "      <td>62.1<\/td>\n",
       "    <\/tr>\n",
       "    <tr>\n",
       "      <th>656<\/th>\n",
       "      <td>Zenefits<\/td>\n",
       "      <td>zenefits.com<\/td>\n",
       "      <td>$583.6M<\/td>\n",
       "      <td>Disrupt NYC 2013<\/td>\n",
       "      <td>Finalist<\/td>\n",
       "      <td>Operating<\/td>\n",
       "      <td>583.6<\/td>\n",
       "    <\/tr>\n",
       "    <tr>\n",
       "      <th>659<\/th>\n",
       "      <td>Zocdoc<\/td>\n",
       "      <td>zocdoc.com<\/td>\n",
       "      <td>$223M<\/td>\n",
       "      <td>TC40 2007<\/td>\n",
       "      <td>Contestant<\/td>\n",
       "      <td>Operating<\/td>\n",
       "      <td>223.0<\/td>\n",
       "    <\/tr>\n",
       "    <tr>\n",
       "      <th>661<\/th>\n",
       "      <td>Zumper<\/td>\n",
       "      <td>zumper.com<\/td>\n",
       "      <td>$31.5M<\/td>\n",
       "      <td>Disrupt SF 2012<\/td>\n",
       "      <td>Finalist<\/td>\n",
       "      <td>Operating<\/td>\n",
       "      <td>31.5<\/td>\n",
       "    <\/tr>\n",
       "  <\/tbody>\n",
       "<\/table>\n",
       "<\/div>"
      ]
     },
     "metadata":{
      
     },
     "output_type":"display_data"
    }
   ],
   "metadata":{
    "datalore":{
     "node_id":"kQd7QkUVZE2hcgkMBvAoSs",
     "type":"CODE",
     "hide_input_from_viewers":false,
     "hide_output_from_viewers":false
    }
   }
  },
  {
   "cell_type":"code",
   "source":[
    "UOUT.shape"
   ],
   "execution_count":371,
   "outputs":[
    {
     "data":{
      "text\/plain":[
       "(60, 7)"
      ]
     },
     "metadata":{
      
     },
     "output_type":"display_data"
    }
   ],
   "metadata":{
    "datalore":{
     "node_id":"38lTnYcDi2BjELCyx9olSt",
     "type":"CODE",
     "hide_input_from_viewers":false,
     "hide_output_from_viewers":false
    }
   }
  },
  {
   "cell_type":"markdown",
   "source":[
    "# **C. 3. E. Check frequency of the OperatingState features classes. [1 Mark]**"
   ],
   "attachments":{
    
   },
   "metadata":{
    "datalore":{
     "node_id":"Z7ZEabchZebEMgCz1dvhI6",
     "type":"MD",
     "hide_input_from_viewers":false,
     "hide_output_from_viewers":false
    }
   }
  },
  {
   "cell_type":"code",
   "source":[
    "print (df['OperatingState'].value_counts())"
   ],
   "execution_count":372,
   "outputs":[
    {
     "name":"stdout",
     "text":[
      "Operating    465\n",
      "Closed       106\n",
      "Acquired      86\n",
      "Ipo            5\n",
      "Name: OperatingState, dtype: int64\n"
     ],
     "output_type":"stream"
    }
   ],
   "metadata":{
    "datalore":{
     "node_id":"ez6lAyg06EQZvbSIZNfEG2",
     "type":"CODE",
     "hide_input_from_viewers":false,
     "hide_output_from_viewers":false
    }
   }
  },
  {
   "cell_type":"code",
   "source":[
    "counts = df['OperatingState'].value_counts().to_dict()\n",
    "print (counts)"
   ],
   "execution_count":373,
   "outputs":[
    {
     "name":"stdout",
     "text":[
      "{'Operating': 465, 'Closed': 106, 'Acquired': 86, 'Ipo': 5}\n"
     ],
     "output_type":"stream"
    }
   ],
   "metadata":{
    "datalore":{
     "node_id":"kpU6FqBvzMSGpW2UitHK6g",
     "type":"CODE",
     "hide_input_from_viewers":false,
     "hide_output_from_viewers":false
    }
   }
  },
  {
   "cell_type":"code",
   "source":[
    "#Graphical Representation\n",
    "plt.figure(figsize=(8,11))\n",
    "sns.histplot(data=cleandata,x='OperatingState');"
   ],
   "execution_count":374,
   "outputs":[
    {
     "data":{
      "image\/png":"[encoded data removed]"
     },
     "metadata":{
      "image\/png":{
       
      }
     },
     "output_type":"display_data"
    }
   ],
   "metadata":{
    "datalore":{
     "node_id":"kdE4CTVCMIMhe2Z5t1nPgx",
     "type":"CODE",
     "hide_input_from_viewers":false,
     "hide_output_from_viewers":false
    }
   }
  },
  {
   "cell_type":"markdown",
   "source":[
    "# **4. Statistical Analysis: [10 Marks]**"
   ],
   "attachments":{
    
   },
   "metadata":{
    "datalore":{
     "node_id":"l6wUagPep8YscsGlWIxlRJ",
     "type":"MD",
     "hide_input_from_viewers":false,
     "hide_output_from_viewers":false
    }
   }
  },
  {
   "cell_type":"markdown",
   "source":[
    "# **A**. Is there any significant difference between Funds raised by companies that are still operating vs companies that closed down? [1 Mark]"
   ],
   "attachments":{
    
   },
   "metadata":{
    "datalore":{
     "node_id":"kN87QGFv9GJ2hu8yNSCipw",
     "type":"MD",
     "hide_input_from_viewers":false,
     "hide_output_from_viewers":false
    }
   }
  },
  {
   "cell_type":"markdown",
   "source":[
    "# SOLUTION: DESIGNING NULL AND ALTERNATE HYPOTHESIS\n",
    "H0: There is no statistically significant difference between money raised by firms that are still in operation and monies raised by companies that have closed down.\n",
    "\n",
    "Ha: There is a no statistically significant difference in funds raised by firms that are still in operation vs those that have closed down."
   ],
   "attachments":{
    
   },
   "metadata":{
    "datalore":{
     "node_id":"w9RmSspzIYITwTYBKGijEl",
     "type":"MD",
     "hide_input_from_viewers":false,
     "hide_output_from_viewers":false
    }
   }
  },
  {
   "cell_type":"markdown",
   "source":[
    "# **D**. Make a copy of the original data frame. [1 Mark]"
   ],
   "attachments":{
    
   },
   "metadata":{
    "datalore":{
     "node_id":"MXz6GA2gTwjzgbz9ppBD16",
     "type":"MD",
     "hide_input_from_viewers":false,
     "hide_output_from_viewers":false
    }
   }
  },
  {
   "cell_type":"code",
   "source":[
    "newdata = cleandata.copy()\n",
    "newdata"
   ],
   "execution_count":375,
   "outputs":[
    {
     "data":{
      "text\/html":[
       "<div>\n",
       "<style scoped>\n",
       "    .dataframe tbody tr th:only-of-type {\n",
       "        vertical-align: middle;\n",
       "    }\n",
       "\n",
       "    .dataframe tbody tr th {\n",
       "        vertical-align: top;\n",
       "    }\n",
       "\n",
       "    .dataframe thead th {\n",
       "        text-align: right;\n",
       "    }\n",
       "<\/style>\n",
       "<table border=\"1\" class=\"dataframe\">\n",
       "  <thead>\n",
       "    <tr style=\"text-align: right;\">\n",
       "      <th><\/th>\n",
       "      <th>Startup<\/th>\n",
       "      <th>Product<\/th>\n",
       "      <th>Funding<\/th>\n",
       "      <th>Event<\/th>\n",
       "      <th>Result<\/th>\n",
       "      <th>OperatingState<\/th>\n",
       "      <th>Funds_in_million<\/th>\n",
       "    <\/tr>\n",
       "  <\/thead>\n",
       "  <tbody>\n",
       "    <tr>\n",
       "      <th>1<\/th>\n",
       "      <td>3DLT<\/td>\n",
       "      <td>3dlt.com<\/td>\n",
       "      <td>$630K<\/td>\n",
       "      <td>Disrupt NYC 2013<\/td>\n",
       "      <td>Contestant<\/td>\n",
       "      <td>Closed<\/td>\n",
       "      <td>0.63<\/td>\n",
       "    <\/tr>\n",
       "    <tr>\n",
       "      <th>3<\/th>\n",
       "      <td>3Dprintler<\/td>\n",
       "      <td>3dprintler.com<\/td>\n",
       "      <td>$1M<\/td>\n",
       "      <td>Disrupt NY 2016<\/td>\n",
       "      <td>Audience choice<\/td>\n",
       "      <td>Operating<\/td>\n",
       "      <td>1.00<\/td>\n",
       "    <\/tr>\n",
       "    <tr>\n",
       "      <th>5<\/th>\n",
       "      <td>5to1<\/td>\n",
       "      <td>5to1.com<\/td>\n",
       "      <td>$19.3M<\/td>\n",
       "      <td>TC50 2009<\/td>\n",
       "      <td>Contestant<\/td>\n",
       "      <td>Acquired<\/td>\n",
       "      <td>19.30<\/td>\n",
       "    <\/tr>\n",
       "    <tr>\n",
       "      <th>6<\/th>\n",
       "      <td>8 Securities<\/td>\n",
       "      <td>8securities.com<\/td>\n",
       "      <td>$29M<\/td>\n",
       "      <td>Disrupt Beijing 2011<\/td>\n",
       "      <td>Finalist<\/td>\n",
       "      <td>Operating<\/td>\n",
       "      <td>29.00<\/td>\n",
       "    <\/tr>\n",
       "    <tr>\n",
       "      <th>10<\/th>\n",
       "      <td>AdhereTech<\/td>\n",
       "      <td>adheretech.com<\/td>\n",
       "      <td>$1.8M<\/td>\n",
       "      <td>Hardware Battlefield 2014<\/td>\n",
       "      <td>Contestant<\/td>\n",
       "      <td>Operating<\/td>\n",
       "      <td>1.80<\/td>\n",
       "    <\/tr>\n",
       "    <tr>\n",
       "      <th>...<\/th>\n",
       "      <td>...<\/td>\n",
       "      <td>...<\/td>\n",
       "      <td>...<\/td>\n",
       "      <td>...<\/td>\n",
       "      <td>...<\/td>\n",
       "      <td>...<\/td>\n",
       "      <td>...<\/td>\n",
       "    <\/tr>\n",
       "    <tr>\n",
       "      <th>657<\/th>\n",
       "      <td>Zivity<\/td>\n",
       "      <td>zivity.com<\/td>\n",
       "      <td>$8M<\/td>\n",
       "      <td>TC40 2007<\/td>\n",
       "      <td>Contestant<\/td>\n",
       "      <td>Operating<\/td>\n",
       "      <td>8.00<\/td>\n",
       "    <\/tr>\n",
       "    <tr>\n",
       "      <th>658<\/th>\n",
       "      <td>Zmorph<\/td>\n",
       "      <td>zmorph3d.com<\/td>\n",
       "      <td>$1M<\/td>\n",
       "      <td>-<\/td>\n",
       "      <td>Audience choice<\/td>\n",
       "      <td>Operating<\/td>\n",
       "      <td>1.00<\/td>\n",
       "    <\/tr>\n",
       "    <tr>\n",
       "      <th>659<\/th>\n",
       "      <td>Zocdoc<\/td>\n",
       "      <td>zocdoc.com<\/td>\n",
       "      <td>$223M<\/td>\n",
       "      <td>TC40 2007<\/td>\n",
       "      <td>Contestant<\/td>\n",
       "      <td>Operating<\/td>\n",
       "      <td>223.00<\/td>\n",
       "    <\/tr>\n",
       "    <tr>\n",
       "      <th>660<\/th>\n",
       "      <td>Zula<\/td>\n",
       "      <td>zulaapp.com<\/td>\n",
       "      <td>$3.4M<\/td>\n",
       "      <td>Disrupt SF 2013<\/td>\n",
       "      <td>Audience choice<\/td>\n",
       "      <td>Operating<\/td>\n",
       "      <td>3.40<\/td>\n",
       "    <\/tr>\n",
       "    <tr>\n",
       "      <th>661<\/th>\n",
       "      <td>Zumper<\/td>\n",
       "      <td>zumper.com<\/td>\n",
       "      <td>$31.5M<\/td>\n",
       "      <td>Disrupt SF 2012<\/td>\n",
       "      <td>Finalist<\/td>\n",
       "      <td>Operating<\/td>\n",
       "      <td>31.50<\/td>\n",
       "    <\/tr>\n",
       "  <\/tbody>\n",
       "<\/table>\n",
       "<p>446 rows × 7 columns<\/p>\n",
       "<\/div>"
      ]
     },
     "metadata":{
      
     },
     "output_type":"display_data"
    }
   ],
   "metadata":{
    "datalore":{
     "node_id":"jioFjdDwXZNqoSSrEOJ6rX",
     "type":"CODE",
     "hide_input_from_viewers":false,
     "hide_output_from_viewers":false
    }
   }
  },
  {
   "cell_type":"code",
   "source":[
    "events = cleandata[cleandata[\"Event\"].str.contains('Disrupt')].copy()\n",
    "events[['EventName','EventLocation','EventYear']] = events['Event'].str.split(' ',expand=True)\n",
    "events['EventYear'] = events['EventYear'].replace('-', np.nan)\n",
    "events[\"EventYear\"] = pd.to_numeric(events[\"EventYear\"])\n",
    "events = events[events[\"EventYear\"] >= 2013]\n",
    "events"
   ],
   "execution_count":376,
   "outputs":[
    {
     "data":{
      "text\/html":[
       "<div>\n",
       "<style scoped>\n",
       "    .dataframe tbody tr th:only-of-type {\n",
       "        vertical-align: middle;\n",
       "    }\n",
       "\n",
       "    .dataframe tbody tr th {\n",
       "        vertical-align: top;\n",
       "    }\n",
       "\n",
       "    .dataframe thead th {\n",
       "        text-align: right;\n",
       "    }\n",
       "<\/style>\n",
       "<table border=\"1\" class=\"dataframe\">\n",
       "  <thead>\n",
       "    <tr style=\"text-align: right;\">\n",
       "      <th><\/th>\n",
       "      <th>Startup<\/th>\n",
       "      <th>Product<\/th>\n",
       "      <th>Funding<\/th>\n",
       "      <th>Event<\/th>\n",
       "      <th>Result<\/th>\n",
       "      <th>OperatingState<\/th>\n",
       "      <th>Funds_in_million<\/th>\n",
       "      <th>EventName<\/th>\n",
       "      <th>EventLocation<\/th>\n",
       "      <th>EventYear<\/th>\n",
       "    <\/tr>\n",
       "  <\/thead>\n",
       "  <tbody>\n",
       "    <tr>\n",
       "      <th>1<\/th>\n",
       "      <td>3DLT<\/td>\n",
       "      <td>3dlt.com<\/td>\n",
       "      <td>$630K<\/td>\n",
       "      <td>Disrupt NYC 2013<\/td>\n",
       "      <td>Contestant<\/td>\n",
       "      <td>Closed<\/td>\n",
       "      <td>0.630<\/td>\n",
       "      <td>Disrupt<\/td>\n",
       "      <td>NYC<\/td>\n",
       "      <td>2013<\/td>\n",
       "    <\/tr>\n",
       "    <tr>\n",
       "      <th>3<\/th>\n",
       "      <td>3Dprintler<\/td>\n",
       "      <td>3dprintler.com<\/td>\n",
       "      <td>$1M<\/td>\n",
       "      <td>Disrupt NY 2016<\/td>\n",
       "      <td>Audience choice<\/td>\n",
       "      <td>Operating<\/td>\n",
       "      <td>1.000<\/td>\n",
       "      <td>Disrupt<\/td>\n",
       "      <td>NY<\/td>\n",
       "      <td>2016<\/td>\n",
       "    <\/tr>\n",
       "    <tr>\n",
       "      <th>13<\/th>\n",
       "      <td>Agrilyst<\/td>\n",
       "      <td>agrilyst.com<\/td>\n",
       "      <td>$1M<\/td>\n",
       "      <td>Disrupt SF 2015<\/td>\n",
       "      <td>Winner<\/td>\n",
       "      <td>Operating<\/td>\n",
       "      <td>1.000<\/td>\n",
       "      <td>Disrupt<\/td>\n",
       "      <td>SF<\/td>\n",
       "      <td>2015<\/td>\n",
       "    <\/tr>\n",
       "    <tr>\n",
       "      <th>14<\/th>\n",
       "      <td>Aiden<\/td>\n",
       "      <td>aiden.ai<\/td>\n",
       "      <td>$750K<\/td>\n",
       "      <td>Disrupt London 2016<\/td>\n",
       "      <td>Contestant<\/td>\n",
       "      <td>Operating<\/td>\n",
       "      <td>0.750<\/td>\n",
       "      <td>Disrupt<\/td>\n",
       "      <td>London<\/td>\n",
       "      <td>2016<\/td>\n",
       "    <\/tr>\n",
       "    <tr>\n",
       "      <th>16<\/th>\n",
       "      <td>Aircall<\/td>\n",
       "      <td>aircall.io<\/td>\n",
       "      <td>$11.6M<\/td>\n",
       "      <td>Disrupt SF 2015<\/td>\n",
       "      <td>Contestant<\/td>\n",
       "      <td>Operating<\/td>\n",
       "      <td>11.600<\/td>\n",
       "      <td>Disrupt<\/td>\n",
       "      <td>SF<\/td>\n",
       "      <td>2015<\/td>\n",
       "    <\/tr>\n",
       "    <tr>\n",
       "      <th>...<\/th>\n",
       "      <td>...<\/td>\n",
       "      <td>...<\/td>\n",
       "      <td>...<\/td>\n",
       "      <td>...<\/td>\n",
       "      <td>...<\/td>\n",
       "      <td>...<\/td>\n",
       "      <td>...<\/td>\n",
       "      <td>...<\/td>\n",
       "      <td>...<\/td>\n",
       "      <td>...<\/td>\n",
       "    <\/tr>\n",
       "    <tr>\n",
       "      <th>641<\/th>\n",
       "      <td>Workspot<\/td>\n",
       "      <td>workspot.com<\/td>\n",
       "      <td>$15.8M<\/td>\n",
       "      <td>Disrupt NYC 2013<\/td>\n",
       "      <td>Contestant<\/td>\n",
       "      <td>Operating<\/td>\n",
       "      <td>15.800<\/td>\n",
       "      <td>Disrupt<\/td>\n",
       "      <td>NYC<\/td>\n",
       "      <td>2013<\/td>\n",
       "    <\/tr>\n",
       "    <tr>\n",
       "      <th>642<\/th>\n",
       "      <td>Xendo<\/td>\n",
       "      <td>xendo.com<\/td>\n",
       "      <td>$28K<\/td>\n",
       "      <td>Disrupt SF 2014<\/td>\n",
       "      <td>Contestant<\/td>\n",
       "      <td>Acquired<\/td>\n",
       "      <td>0.028<\/td>\n",
       "      <td>Disrupt<\/td>\n",
       "      <td>SF<\/td>\n",
       "      <td>2014<\/td>\n",
       "    <\/tr>\n",
       "    <tr>\n",
       "      <th>646<\/th>\n",
       "      <td>YayPay Inc<\/td>\n",
       "      <td>yaypay.com<\/td>\n",
       "      <td>$900K<\/td>\n",
       "      <td>Disrupt London 2015<\/td>\n",
       "      <td>Contestant<\/td>\n",
       "      <td>Operating<\/td>\n",
       "      <td>0.900<\/td>\n",
       "      <td>Disrupt<\/td>\n",
       "      <td>London<\/td>\n",
       "      <td>2015<\/td>\n",
       "    <\/tr>\n",
       "    <tr>\n",
       "      <th>656<\/th>\n",
       "      <td>Zenefits<\/td>\n",
       "      <td>zenefits.com<\/td>\n",
       "      <td>$583.6M<\/td>\n",
       "      <td>Disrupt NYC 2013<\/td>\n",
       "      <td>Finalist<\/td>\n",
       "      <td>Operating<\/td>\n",
       "      <td>583.600<\/td>\n",
       "      <td>Disrupt<\/td>\n",
       "      <td>NYC<\/td>\n",
       "      <td>2013<\/td>\n",
       "    <\/tr>\n",
       "    <tr>\n",
       "      <th>660<\/th>\n",
       "      <td>Zula<\/td>\n",
       "      <td>zulaapp.com<\/td>\n",
       "      <td>$3.4M<\/td>\n",
       "      <td>Disrupt SF 2013<\/td>\n",
       "      <td>Audience choice<\/td>\n",
       "      <td>Operating<\/td>\n",
       "      <td>3.400<\/td>\n",
       "      <td>Disrupt<\/td>\n",
       "      <td>SF<\/td>\n",
       "      <td>2013<\/td>\n",
       "    <\/tr>\n",
       "  <\/tbody>\n",
       "<\/table>\n",
       "<p>193 rows × 10 columns<\/p>\n",
       "<\/div>"
      ]
     },
     "metadata":{
      
     },
     "output_type":"display_data"
    }
   ],
   "metadata":{
    "datalore":{
     "node_id":"ZrFkK2oMXFc4s8btsz3w2Y",
     "type":"CODE",
     "hide_input_from_viewers":false,
     "hide_output_from_viewers":false
    }
   }
  },
  {
   "cell_type":"code",
   "source":[
    "op_comp = cleandata[cleandata['OperatingState'] == \"Operating\"]\n",
    "cl_comp = cleandata[cleandata['OperatingState'] == \"Closed\"]"
   ],
   "execution_count":380,
   "outputs":[
    
   ],
   "metadata":{
    "datalore":{
     "node_id":"oM3p0nfbTdJTTMWmJQMtKB",
     "type":"CODE",
     "hide_input_from_viewers":false,
     "hide_output_from_viewers":false
    }
   }
  },
  {
   "cell_type":"markdown",
   "source":[
    "# Conclusion: If pval is lesser 0.05(pval<0.05), the difference is considered significant. We reject the null hypothesis. As a result, we conclude There is a distinction between money raised by firms that are still in operation and monies raised by companies that have closed down; otherwise, the distinction is insignificant. We will be unable to reject the null hypothesis. As a result, we find that there is no substantial difference in money raised by firms that are still in operation as compared to those that have closed down."
   ],
   "attachments":{
    
   },
   "metadata":{
    "datalore":{
     "node_id":"yE2aohNdgXBERVdlMoEf6B",
     "type":"MD",
     "hide_input_from_viewers":false,
     "hide_output_from_viewers":false
    }
   }
  }
 ],
 "metadata":{
  "kernelspec":{
   "display_name":"Python",
   "language":"python",
   "name":"python"
  },
  "datalore":{
   "version":1,
   "computation_mode":"JUPYTER",
   "package_manager":"pip",
   "base_environment":"default",
   "packages":[
    
   ]
  }
 },
 "nbformat":4,
 "nbformat_minor":4
}